{
 "cells": [
  {
   "cell_type": "markdown",
   "id": "0174dt6swdca",
   "metadata": {},
   "source": [
    "# 数据加载与检查\n",
    " \n",
    " 本单元用于加载和检查MBPP数据集的两个版本：\n",
    " - mbpp.jsonl: 原始JSONL格式数据集（每行一个JSON对象）\n",
    " - sanitized-mbpp.json: 清洗后的标准JSON格式数据集\n",
    " \n",
    "这些数据集包含编程问题描述和对应的代码解决方案，将用于embedding模型的训练。"
   ]
  },
  {
   "cell_type": "code",
   "execution_count": 5,
   "id": "d4a216fe",
   "metadata": {},
   "outputs": [
    {
     "name": "stdout",
     "output_type": "stream",
     "text": [
      "检查文件: ./mbpp.jsonl -> 存在\n",
      "检查文件: ./sanitized-mbpp.json -> 存在\n",
      "已加载 mbpp.jsonl，样本数=974\n",
      "已加载 sanitized-mbpp.json，样本数=427\n",
      "\n",
      "--- mbpp.jsonl 第一条示例（部分） ---\n",
      "{'challenge_test_list': [],\n",
      " 'code': 'R = 3\\r\\n'\n",
      "         'C = 3\\r\\n'\n",
      "         'def min_cost(cost, m, n): \\r\\n'\n",
      "         '\\ttc = [[0 for x in range(C)] for x in range(R)] \\r\\n'\n",
      "         '\\ttc[0][0] = cost[0][0] \\r\\n'\n",
      "         '\\tfor i in range(1, m+1): \\r\\n'\n",
      "         '\\t\\ttc[i][0] = tc[i-1][0] + cost[i][0] \\r\\n'\n",
      "         '\\tfor j in range(1, n+1): \\r\\n'\n",
      "         '\\t\\ttc[0][j] = tc[0][j-1] + cost[0][j] \\r\\n'\n",
      "         '\\tfor i in range(1, m+1): \\r\\n'\n",
      "         '\\t\\tfor j in range(1, n+1): \\r\\n'\n",
      "         '\\t\\t\\ttc[i][j] = min(tc[i-1][j-1], tc[i-1][j], tc[i][j-1]) + '\n",
      "         'cost[i][j] \\r\\n'\n",
      "         '\\treturn tc[m][n]',\n",
      " 'task_id': 1,\n",
      " 'test_list': ['assert min_cost([[1, 2, 3], [4, 8, 2], [1, 5, 3]], 2, 2) == 8',\n",
      "               'assert min_cost([[2, 3, 4], [5, 9, 3], [2, 6, 4]], 2, 2) == 12',\n",
      "               'assert min_cost([[3, 4, 5], [6, 10, 4], [3, 7, 5]], 2, 2) == '\n",
      "               '16'],\n",
      " 'test_setup_code': '',\n",
      " 'text': 'Write a function to find the minimum cost path to reach (m, n) from '\n",
      "         '(0, 0) for the given cost matrix cost[][] and a position (m, n) in '\n",
      "         'cost[][].'}\n",
      "\n",
      "--- sanitized-mbpp.json 第一条示例（部分） ---\n",
      "{'code': 'def similar_elements(test_tup1, test_tup2):\\n'\n",
      "         '  res = tuple(set(test_tup1) & set(test_tup2))\\n'\n",
      "         '  return (res) ',\n",
      " 'prompt': 'Write a function to find the shared elements from the given two '\n",
      "           'lists.',\n",
      " 'source_file': 'Benchmark Questions Verification V2.ipynb',\n",
      " 'task_id': 2,\n",
      " 'test_imports': [],\n",
      " 'test_list': ['assert set(similar_elements((3, 4, 5, 6),(5, 7, 4, 10))) == '\n",
      "               'set((4, 5))',\n",
      "               'assert set(similar_elements((1, 2, 3, 4),(5, 4, 3, 7))) == '\n",
      "               'set((3, 4))',\n",
      "               'assert set(similar_elements((11, 12, 14, 13),(17, 15, 14, '\n",
      "               '13))) == set((13, 14))']}\n",
      "\n",
      "可用变量: loaded_mbpp, loaded_sanitized\n"
     ]
    }
   ],
   "source": [
    "# 从本地文件加载 MBPP 数据（不使用 datasets 库）\n",
    "import json\n",
    "import os\n",
    "from pprint import pprint\n",
    "\n",
    "jsonl_path = \"./mbpp.jsonl\"\n",
    "json_path = \"./sanitized-mbpp.json\"\n",
    "\n",
    "for p in (jsonl_path, json_path):\n",
    "    print(f\"检查文件: {p} -> {'存在' if os.path.exists(p) else '未找到'}\")\n",
    "\n",
    "# 加载 jsonl（每行一个 JSON）\n",
    "def load_jsonl(path):\n",
    "    items = []\n",
    "    with open(path, 'r', encoding='utf-8') as f:\n",
    "        for i, line in enumerate(f):\n",
    "            line = line.strip()\n",
    "            if not line:\n",
    "                continue\n",
    "            try:\n",
    "                items.append(json.loads(line))\n",
    "            except Exception as e:\n",
    "                print(f\"解析 {path} 第 {i} 行失败：\", type(e).__name__, e)\n",
    "    return items\n",
    "\n",
    "# 加载普通 json 文件\n",
    "def load_json(path):\n",
    "    with open(path, 'r', encoding='utf-8') as f:\n",
    "        return json.load(f)\n",
    "\n",
    "mbpp = []\n",
    "sanitized = []\n",
    "\n",
    "if os.path.exists(jsonl_path):\n",
    "    mbpp = load_jsonl(jsonl_path)\n",
    "    print(f\"已加载 mbpp.jsonl，样本数={len(mbpp)}\")\n",
    "else:\n",
    "    print(\"未找到 mbpp.jsonl，mbpp 列表为空\")\n",
    "\n",
    "if os.path.exists(json_path):\n",
    "    try:\n",
    "        sanitized = load_json(json_path)\n",
    "        print(f\"已加载 sanitized-mbpp.json，样本数={len(sanitized)}\")\n",
    "    except Exception as e:\n",
    "        print(\"加载 sanitized-mbpp.json 失败：\", type(e).__name__, e)\n",
    "else:\n",
    "    print(\"未找到 sanitized-mbpp.json，sanitized 列表为空\")\n",
    "\n",
    "# 打印第一条示例（如果存在）\n",
    "if mbpp:\n",
    "    print('\\n--- mbpp.jsonl 第一条示例（部分） ---')\n",
    "    pprint(mbpp[0])\n",
    "if sanitized:\n",
    "    print('\\n--- sanitized-mbpp.json 第一条示例（部分） ---')\n",
    "    pprint(sanitized[0])\n",
    "\n",
    "# 将加载的数据放到全局变量，方便 notebook 后续使用\n",
    "loaded_mbpp = mbpp\n",
    "loaded_sanitized = sanitized\n",
    "print('\\n可用变量: loaded_mbpp, loaded_sanitized')"
   ]
  },
  {
   "cell_type": "markdown",
   "id": "a828ffcf",
   "metadata": {},
   "source": [
    "# 安装依赖\n",
    "pip install torch transformers sentence-transformers numpy matplotlib tqdm scipy scikit-learn\n",
    "\n",
    "## 数据集格式说明\n",
    "\n",
    "\n",
    "\n",
    "### 1) `mbpp.jsonl`（每行一个 JSON）\n",
    "- 说明：原始或完整版本，每行保存一条样本（JSONL）。常见字段：\n",
    "  - `source_file` (可选)：来源文件名\n",
    "  - `task_id`：任务编号（整数）\n",
    "  - `text` 或 `prompt`：题目描述（字符串）\n",
    "  - `code`：参考/标准答案代码（字符串）\n",
    "  - `test_imports`：测试所需的 import 语句列表（可选）\n",
    "  - `test_list`：测试断言列表（字符串数组），通常为可直接执行的 `assert ...` 文本\n",
    "  - `test_setup_code`：运行测试前需执行的准备代码（可选）\n",
    "  - `challenge_test_list`：扩展/挑战测试（可选）\n",
    "\n",
    "示例（单行 JSON，已格式化以便阅读，实际文件为 JSONL）：\n",
    "\n",
    "```json\n",
    "{\n",
    "  \"source_file\": \"Benchmark Questions Verification V2.ipynb\",\n",
    "  \"task_id\": 1,\n",
    "  \"text\": \"Write a function to find the minimum cost path to reach (m, n) from (0, 0) ...\",\n",
    "  \"code\": \"def min_cost(cost, m, n): ... return tc[m][n]\",\n",
    "  \"test_setup_code\": \"\",\n",
    "  \"test_list\": [\n",
    "    \"assert min_cost([[1,2,3],[4,8,2],[1,5,3]],2,2) == 8\",\n",
    "    \"assert min_cost([[2,3,4],[5,9,3],[2,6,4]],2,2) == 12\"\n",
    "  ],\n",
    "  \"challenge_test_list\": []\n",
    "}\n",
    "```\n",
    "\n",
    "---\n",
    "\n",
    "### 2) `sanitized-mbpp.json`（标准 JSON，整个文件为一个 JSON 数组）\n",
    "- 说明：经过清洗/规范化后的版本，通常以数组形式保存所有样本。字段与 `mbpp.jsonl` 类似，常见字段有：\n",
    "  - `task_id`：任务编号\n",
    "  - `prompt` 或 `text`：题目描述\n",
    "  - `code`：参考代码\n",
    "  - `test_imports`：测试所需 imports（数组）\n",
    "  - `test_list`：测试断言数组\n",
    "\n",
    "示例（数组中的一个对象）：\n",
    "\n",
    "```json\n",
    "{\n",
    "  \"task_id\": 2,\n",
    "  \"prompt\": \"Write a function to find the shared elements from the given two lists.\",\n",
    "  \"code\": \"def similar_elements(test_tup1, test_tup2):\\n  res = tuple(set(test_tup1) & set(test_tup2))\\n  return (res)\",\n",
    "  \"test_imports\": [],\n",
    "  \"test_list\": [\n",
    "    \"assert set(similar_elements((3,4,5,6),(5,7,4,10))) == set((4,5))\",\n",
    "    \"assert set(similar_elements((1,2,3,4),(5,4,3,7))) == set((3,4))\"\n",
    "  ]\n",
    "}\n",
    "```"
   ]
  },
  {
   "cell_type": "code",
   "execution_count": 6,
   "id": "48bbf4bb",
   "metadata": {},
   "outputs": [
    {
     "name": "stdout",
     "output_type": "stream",
     "text": [
      "已加载 sanitized json，样本数=427\n",
      "总候选样本数: 427\n",
      "划分结果: total=427, train=341, val=86 (目标 8:2)\n",
      "写入完成: train -> ./mbpp_train.jsonl, val -> ./mbpp_val.jsonl\n"
     ]
    }
   ],
   "source": [
    "# 将 sanitized-mbpp.json 或 mbpp.jsonl -> mbpp_train.jsonl / mbpp_val.jsonl，按 8:2 划分\n",
    "import json, os, random\n",
    "\n",
    "mbpp_jsonl = \"./mbpp.jsonl\"\n",
    "sanitized_json = \"./sanitized-mbpp.json\"\n",
    "out_train = \"./mbpp_train.jsonl\"\n",
    "out_val = \"./mbpp_val.jsonl\"\n",
    "\n",
    "# 划分配置：8:2 (train:val)\n",
    "TRAIN_RATIO = 0.8\n",
    "VAL_RATIO = 0.2\n",
    "SEED = 42\n",
    "\n",
    "\n",
    "def load_jsonl(path):\n",
    "    items = []\n",
    "    with open(path, 'r', encoding='utf-8') as f:\n",
    "        for i, line in enumerate(f):\n",
    "            line = line.strip()\n",
    "            if not line:\n",
    "                continue\n",
    "            try:\n",
    "                items.append(json.loads(line))\n",
    "            except Exception as e:\n",
    "                print(f\"解析 {path} 第 {i} 行失败：\", type(e).__name__, e)\n",
    "    return items\n",
    "\n",
    "\n",
    "# 优先使用 sanitized_json（已清洗），否则尝试使用 mbpp_jsonl\n",
    "items = []\n",
    "if os.path.exists(sanitized_json):\n",
    "    try:\n",
    "        with open(sanitized_json, 'r', encoding='utf-8') as f:\n",
    "            items = json.load(f)\n",
    "        print(f\"已加载 sanitized json，样本数={len(items)}\")\n",
    "    except Exception as e:\n",
    "        print(\"加载 sanitized-mbpp.json 失败：\", type(e).__name__, e)\n",
    "\n",
    "if not items and os.path.exists(mbpp_jsonl):\n",
    "    print(f\"sanitized 未提供，尝试加载 jsonl: {mbpp_jsonl}\")\n",
    "    items = load_jsonl(mbpp_jsonl)\n",
    "    print(f\"已加载 mbpp.jsonl，样本数={len(items)}\")\n",
    "\n",
    "print(f\"总候选样本数: {len(items)}\")\n",
    "\n",
    "if len(items) == 0:\n",
    "    print('未找到可用样本，未写入 train/val 文件')\n",
    "else:\n",
    "    # 随机打乱并按比例划分（可复现）\n",
    "    random.seed(SEED)\n",
    "    random.shuffle(items)\n",
    "\n",
    "    n = len(items)\n",
    "    train_n = int(n * TRAIN_RATIO)\n",
    "    val_n = n - train_n\n",
    "\n",
    "    train_items = items[:train_n]\n",
    "    val_items = items[train_n:]\n",
    "\n",
    "    print(f\"划分结果: total={n}, train={len(train_items)}, val={len(val_items)} (目标 8:2)\")\n",
    "\n",
    "    # 写出文件（每行 JSON）\n",
    "    with open(out_train, 'w', encoding='utf-8') as f_train, open(out_val, 'w', encoding='utf-8') as f_val:\n",
    "        for item in train_items:\n",
    "            query = item.get('prompt') or item.get('text') or item.get('task') or \"\"\n",
    "            pos_doc = item.get('code') or item.get('solution') or \"\"\n",
    "            if query and pos_doc:\n",
    "                f_train.write(json.dumps({\"query\": query, \"pos_doc\": pos_doc, \"meta\": {\"task_id\": item.get(\"task_id\")}}, ensure_ascii=False) + \"\\n\")\n",
    "        for item in val_items:\n",
    "            query = item.get('prompt') or item.get('text') or item.get('task') or \"\"\n",
    "            pos_doc = item.get('code') or item.get('solution') or \"\"\n",
    "            if query and pos_doc:\n",
    "                f_val.write(json.dumps({\"query\": query, \"pos_doc\": pos_doc, \"meta\": {\"task_id\": item.get(\"task_id\")}}, ensure_ascii=False) + \"\\n\")\n",
    "\n",
    "    print(f\"写入完成: train -> {out_train}, val -> {out_val}\")"
   ]
  },
  {
   "cell_type": "markdown",
   "id": "0mu545fflt6",
   "metadata": {},
   "source": [
    "# 数据预处理与划分\n",
    " \n",
    " 本单元将原始MBPP数据集转换为训练和验证集格式：\n",
    " - 从sanitized-mbpp.json或mbpp.jsonl加载数据\n",
    " - 按8:2比例随机划分为训练集和验证集\n",
    " - 将数据转换为query-pos_doc对格式，便于embedding模型训练\n",
    " - 保存为JSONL格式文件：mbpp_train.jsonl和mbpp_val.jsonl"
   ]
  },
  {
   "cell_type": "code",
   "execution_count": null,
   "id": "88f10557",
   "metadata": {},
   "outputs": [],
   "source": [
    "# 完整训练单元（放在 notebook 中运行）\n",
    "# 说明：本单元实现了基于 in-batch negatives 的嵌入微调流程，支持 fp16（AMP）和梯度累积。\n",
    "# 在运行之前，请确保已生成训练文件：./mbpp_train.jsonl\n",
    "import os\n",
    "# 设置tokenizers并行ism以避免DataLoader多进程警告\n",
    "os.environ[\"TOKENIZERS_PARALLELISM\"] = \"false\"\n",
    "\n",
    "import json\n",
    "from functools import partial\n",
    "from pprint import pprint\n",
    "\n",
    "import random\n",
    "import numpy as np\n",
    "\n",
    "import torch\n",
    "import torch.nn.functional as F\n",
    "from torch import nn\n",
    "from torch.utils.data import Dataset, DataLoader\n",
    "from transformers import AutoTokenizer, get_cosine_schedule_with_warmup\n",
    "from sentence_transformers import SentenceTransformer\n",
    "from tqdm.auto import tqdm\n",
    "\n",
    "\n",
    "# --------------------------- 数据集类 ---------------------------\n",
    "class JsonlDataset(Dataset):\n",
    "    def __init__(self, path):\n",
    "        assert os.path.exists(path), f\"训练文件不存在: {path}\"\n",
    "        self.samples = []\n",
    "        with open(path, 'r', encoding='utf-8') as f:\n",
    "            for i, line in enumerate(f):\n",
    "                line = line.strip()\n",
    "                if not line:\n",
    "                    continue\n",
    "                try:\n",
    "                    self.samples.append(json.loads(line))\n",
    "                except Exception as e:\n",
    "                    print(f\"解析第 {i} 行失败:\", e)\n",
    "        if len(self.samples) == 0:\n",
    "            raise ValueError(\"未在训练文件中读取到样本，请检查文件内容\")\n",
    "\n",
    "    def __len__(self):\n",
    "        return len(self.samples)\n",
    "\n",
    "    def __getitem__(self, idx):\n",
    "        return self.samples[idx]\n",
    "\n",
    "# --------------------------- collate_fn ---------------------------\n",
    "def collate_fn(batch, tokenizer, query_max_len, passage_max_len):\n",
    "    queries = [item.get('query') or item.get('prompt') or item.get('text') or '' for item in batch]\n",
    "    pos_docs = [item.get('pos_doc') or item.get('code') or '' for item in batch]\n",
    "    # tokenizer 输出为 torch tensors\n",
    "    q = tokenizer(queries, padding=True, truncation=True, max_length=query_max_len, return_tensors='pt')\n",
    "    p = tokenizer(pos_docs, padding=True, truncation=True, max_length=passage_max_len, return_tensors='pt')\n",
    "    return {\n",
    "        'query_input_ids': q['input_ids'],\n",
    "        'query_attention_mask': q['attention_mask'],\n",
    "        'pos_doc_input_ids': p['input_ids'],\n",
    "        'pos_doc_attention_mask': p['attention_mask']\n",
    "    }\n",
    "\n",
    "# --------------------------- 模型封装 ---------------------------\n",
    "class EmbeddingModel(nn.Module):\n",
    "    def __init__(self, model_name_or_path, temperature=0.02):\n",
    "        super().__init__()\n",
    "        # 使用 SentenceTransformer 封装底层模型以获取 sentence_embedding\n",
    "        self.s2 = SentenceTransformer(model_name_or_path, trust_remote_code=True)\n",
    "        self.temperature = temperature\n",
    "\n",
    "    def forward(self, query_input_ids, query_attention_mask, pos_doc_input_ids, pos_doc_attention_mask):\n",
    "        # SentenceTransformer 接受 dict 输入并返回字典包含 'sentence_embedding'\n",
    "        q_emb = self.s2({'input_ids': query_input_ids, 'attention_mask': query_attention_mask})['sentence_embedding']\n",
    "        p_emb = self.s2({'input_ids': pos_doc_input_ids, 'attention_mask': pos_doc_attention_mask})['sentence_embedding']\n",
    "\n",
    "        q_emb = F.normalize(q_emb, p=2, dim=-1)\n",
    "        p_emb = F.normalize(p_emb, p=2, dim=-1)\n",
    "\n",
    "        sim = q_emb @ p_emb.t() / self.temperature\n",
    "        labels = torch.arange(sim.size(0), device=sim.device, dtype=torch.long)\n",
    "        loss = F.cross_entropy(sim, labels)\n",
    "        _, pred = sim.max(dim=1)\n",
    "        acc = (pred == labels).float().mean().item()\n",
    "        return { 'loss': loss, 'accuracy': acc }\n",
    "\n",
    "    def save(self, save_dir):\n",
    "        # 保存 SentenceTransformer 的底层模型和 tokenizer\n",
    "        os.makedirs(save_dir, exist_ok=True)\n",
    "        # SentenceTransformer 有 save 方法\n",
    "        self.s2.save(save_dir)\n",
    "\n",
    "# --------------------------- 训练流程 ---------------------------\n",
    "class Trainer:\n",
    "    def __init__(self, model, tokenizer, train_dataloader, optimizer, scheduler, device, cfg, val_dataloader=None):\n",
    "        self.model = model\n",
    "        self.tokenizer = tokenizer\n",
    "        self.dataloader = train_dataloader\n",
    "        self.optimizer = optimizer\n",
    "        self.scheduler = scheduler\n",
    "        self.device = device\n",
    "        self.cfg = cfg\n",
    "        self.val_dataloader = val_dataloader\n",
    "        self.scaler = torch.amp.GradScaler(enabled=cfg['fp16'])\n",
    "        # 训练历史记录\n",
    "        self.history = {\n",
    "            'step_losses': [],      # 每 step 的 loss\n",
    "            'step_accs': [],        # 每 step 的 acc\n",
    "            'epoch': [],            # epoch 索引\n",
    "            'epoch_loss': [],       # 每 epoch 平均 loss\n",
    "            'epoch_acc': [],        # 每 epoch 平均 acc\n",
    "            'eval': []              # 每 epoch 验证结果（dict）\n",
    "        }\n",
    "        # best metric tracking (使用 MRR 作为主要指标)\n",
    "        self.best_mrr = float('-inf')\n",
    "\n",
    "    def train_epoch(self, epoch):\n",
    "        self.model.train()\n",
    "        total_loss = 0.0\n",
    "        total_acc = 0.0\n",
    "        steps = 0\n",
    "\n",
    "        pbar = tqdm(self.dataloader, desc=f\"Epoch {epoch}\")\n",
    "        accumulation = self.cfg['accumulation_steps']\n",
    "\n",
    "        for step, batch in enumerate(pbar):\n",
    "            # move to device\n",
    "            batch = {k: v.to(self.device) for k, v in batch.items()}\n",
    "\n",
    "            with torch.cuda.amp.autocast(enabled=self.cfg['fp16']):\n",
    "                out = self.model(**batch)\n",
    "                loss = out['loss'] / accumulation\n",
    "\n",
    "            # 记录 step loss/acc（使用未除 accumulation 的原始 loss 用于监控）\n",
    "            self.history['step_losses'].append(out['loss'].item())\n",
    "            self.history['step_accs'].append(out['accuracy'])\n",
    "\n",
    "            self.scaler.scale(loss).backward()\n",
    "\n",
    "            if (step + 1) % accumulation == 0:\n",
    "                # clip grads\n",
    "                self.scaler.unscale_(self.optimizer)\n",
    "                torch.nn.utils.clip_grad_norm_(self.model.parameters(), 1.0)\n",
    "                self.scaler.step(self.optimizer)\n",
    "                self.scaler.update()\n",
    "                if self.scheduler is not None:\n",
    "                    self.scheduler.step()\n",
    "                self.optimizer.zero_grad()\n",
    "\n",
    "            total_loss += out['loss'].item()\n",
    "            total_acc += out['accuracy']\n",
    "            steps += 1\n",
    "            pbar.set_postfix({'loss': f\"{out['loss'].item():.4f}\", 'acc': f\"{out['accuracy']:.2%}\"})\n",
    "\n",
    "        avg_loss = total_loss / steps\n",
    "        avg_acc = total_acc / steps\n",
    "        # 记录 epoch 级别历史\n",
    "        self.history['epoch'].append(epoch)\n",
    "        self.history['epoch_loss'].append(avg_loss)\n",
    "        self.history['epoch_acc'].append(avg_acc)\n",
    "\n",
    "        print(f\"Epoch {epoch} finished. avg_loss={avg_loss:.4f}, avg_acc={avg_acc:.2%}\")\n",
    "\n",
    "    def evaluate(self, eval_max=None, batch_size=None):\n",
    "        # 在训练过程中使用 val_dataloader 的原始样本进行评估，返回 recall@1 与 mrr\n",
    "        if self.val_dataloader is None:\n",
    "            raise ValueError('没有可用的 val_dataloader，无法评估')\n",
    "        samples = getattr(self.val_dataloader.dataset, 'samples', None)\n",
    "        if samples is None or len(samples) == 0:\n",
    "            raise ValueError('val_dataloader.dataset 中没有样本')\n",
    "\n",
    "        eval_max = eval_max or self.cfg.get('eval_max', 1000)\n",
    "        batch_size = batch_size or self.cfg.get('eval_batch_size', 32)\n",
    "        # 构造 query / pos lists，限制样本数以提高速度\n",
    "        queries = [s.get('query') or s.get('prompt') or s.get('text') or '' for s in samples]\n",
    "        pos_docs = [s.get('pos_doc') or s.get('code') or '' for s in samples]\n",
    "        if len(queries) > eval_max:\n",
    "            idxs = random.sample(range(len(queries)), eval_max)\n",
    "            queries = [queries[i] for i in idxs]\n",
    "            pos_docs = [pos_docs[i] for i in idxs]\n",
    "\n",
    "        # 使用底层 SentenceTransformer 进行编码（支持 GPU）\n",
    "        device_str = str(self.device)\n",
    "        s = self.model.s2\n",
    "        print(f\"Evaluating on {len(queries)} samples, using device {device_str} ...\")\n",
    "        q_emb = s.encode(queries, batch_size=batch_size, convert_to_tensor=True, device=device_str, show_progress_bar=True)\n",
    "        p_emb = s.encode(pos_docs, batch_size=batch_size, convert_to_tensor=True, device=device_str, show_progress_bar=True)\n",
    "\n",
    "        q_emb = torch.nn.functional.normalize(q_emb, p=2, dim=-1)\n",
    "        p_emb = torch.nn.functional.normalize(p_emb, p=2, dim=-1)\n",
    "\n",
    "        sim = (q_emb @ p_emb.T).cpu().numpy()\n",
    "        n = sim.shape[0]\n",
    "        ranks = []\n",
    "        for i in range(n):\n",
    "            order = np.argsort(-sim[i])\n",
    "            rank = int(np.where(order == i)[0][0])\n",
    "            ranks.append(rank)\n",
    "        ranks = np.array(ranks)\n",
    "        recall_at_1 = float(np.mean(ranks == 0))\n",
    "        mrr = float(np.mean(1.0 / (ranks + 1.0)))\n",
    "        return {'recall@1': recall_at_1, 'mrr': mrr, 'n': n}\n",
    "\n",
    "    def train(self, epochs, output_dir):\n",
    "        for epoch in range(1, epochs + 1):\n",
    "            self.train_epoch(epoch)\n",
    "            ckpt_dir = os.path.join(output_dir, f\"checkpoint-epoch-{epoch}\")\n",
    "            print(f\"Saving checkpoint to {ckpt_dir}\")\n",
    "            self.model.save(ckpt_dir)\n",
    "\n",
    "            # 每个 epoch 后保存历史到 output_dir\n",
    "            try:\n",
    "                os.makedirs(output_dir, exist_ok=True)\n",
    "                hist_path = os.path.join(output_dir, 'training_history.json')\n",
    "                with open(hist_path, 'w', encoding='utf-8') as hf:\n",
    "                    json.dump(self.history, hf, ensure_ascii=False, indent=2)\n",
    "                print(f\"Saved training history to {hist_path}\")\n",
    "            except Exception as e:\n",
    "                print('保存 training_history 失败:', e)\n",
    "\n",
    "            # 在每个 epoch 之后，如果有验证集则进行评估并保存最优模型（基于 MRR）\n",
    "            if self.val_dataloader is not None:\n",
    "                try:\n",
    "                    eval_res = self.evaluate(eval_max=self.cfg.get('eval_max', 1000), batch_size=self.cfg.get('eval_batch_size', 32))\n",
    "                    self.history['eval'].append(eval_res)\n",
    "                    print(f\"Eval after epoch {epoch}: Recall@1={eval_res['recall@1']:.4f}, MRR={eval_res['mrr']:.4f}\")\n",
    "                    # 保存 best checkpoint（按 mrr）\n",
    "                    if eval_res['mrr'] > self.best_mrr:\n",
    "                        self.best_mrr = eval_res['mrr']\n",
    "                        best_dir = os.path.join(output_dir, 'best_checkpoint')\n",
    "                        print(f\"New best MRR={self.best_mrr:.4f}, saving best checkpoint to {best_dir}\")\n",
    "                        self.model.save(best_dir)\n",
    "                except Exception as e:\n",
    "                    print('在评估时发生错误:', e)\n",
    "\n",
    "\n",
    "# --------------------------- 组装并准备训练（在 notebook 中直接运行） ---------------------------\n",
    "def prepare_and_train(cfg):\n",
    "    train_file = cfg['train_file']\n",
    "    if not os.path.exists(train_file):\n",
    "        raise FileNotFoundError(f\"训练文件不存在: {train_file}. 请先生成 mbpp_train.jsonl\")\n",
    "\n",
    "    device = torch.device('cuda' if torch.cuda.is_available() else 'cpu')\n",
    "    print('Device:', device)\n",
    "\n",
    "    tokenizer = AutoTokenizer.from_pretrained(cfg['model_path'])\n",
    "    model = EmbeddingModel(cfg['model_path'], temperature=cfg['temperature']).to(device)\n",
    "\n",
    "    dataset = JsonlDataset(train_file)\n",
    "    collate = partial(collate_fn, tokenizer=tokenizer, query_max_len=cfg['query_max_len'], passage_max_len=cfg['passage_max_len'])\n",
    "    dataloader = DataLoader(dataset, batch_size=cfg['batch_size'], shuffle=True, collate_fn=collate, num_workers=cfg['num_workers'])\n",
    "\n",
    "    optimizer = torch.optim.AdamW(model.parameters(), lr=cfg['lr'], weight_decay=cfg['weight_decay'])\n",
    "    total_steps = max(1, len(dataloader) * cfg['epochs'] // cfg['accumulation_steps'])\n",
    "    scheduler = get_cosine_schedule_with_warmup(optimizer, num_warmup_steps=int(0.1*total_steps), num_training_steps=total_steps)\n",
    "\n",
    "    # 尝试查找验证集文件（优先使用 cfg['val_file']，否则常见位置）\n",
    "    val_file = cfg.get('val_file')\n",
    "    if not val_file:\n",
    "        candidate = os.path.join(os.path.dirname(train_file), 'mbpp_val.jsonl')\n",
    "        if os.path.exists(candidate):\n",
    "            val_file = candidate\n",
    "\n",
    "    val_dataloader = None\n",
    "    if val_file and os.path.exists(val_file):\n",
    "        try:\n",
    "            val_dataset = JsonlDataset(val_file)\n",
    "            val_batch = cfg.get('eval_batch_size', max(1, cfg.get('batch_size', 32)))\n",
    "            val_collate = collate\n",
    "            val_dataloader = DataLoader(val_dataset, batch_size=val_batch, shuffle=False, collate_fn=val_collate, num_workers=cfg.get('num_workers', 2))\n",
    "            print(f\"Using val_file for validation: {val_file}, samples={len(val_dataset)}\")\n",
    "        except Exception as e:\n",
    "            print('创建 val_dataloader 失败:', e)\n",
    "\n",
    "    os.makedirs(cfg['output_dir'], exist_ok=True)\n",
    "    trainer = Trainer(model, tokenizer, dataloader, optimizer, scheduler, device, cfg, val_dataloader=val_dataloader)\n",
    "\n",
    "    print('Start training...')\n",
    "    trainer.train(cfg['epochs'], cfg['output_dir'])\n",
    "\n",
    "    final_dir = os.path.join(cfg['output_dir'], 'final_model')\n",
    "    model.save(final_dir)\n",
    "    tokenizer.save_pretrained(final_dir)\n",
    "    print('Training finished. Final model saved to', final_dir)\n",
    "\n",
    "\n",
    "# 注意: 若想立即运行，请取消下一行注释并执行该单元（在资源足够且确认配置无误时）\n",
    "# prepare_and_train(config)"
   ]
  },
  {
   "cell_type": "markdown",
   "id": "slocbces9hd",
   "metadata": {},
   "source": [
    "# 模型训练实现\n",
    " \n",
    " 本单元实现了完整的embedding模型微调流程：\n",
    " - 使用SentenceTransformers框架封装BGE-M3模型\n",
    " - 实现in-batch negatives训练策略\n",
    " - 支持混合精度训练(AMP)和梯度累积\n",
    " - 包含数据集类、模型封装、训练器和评估功能\n",
    " - 自动保存训练历史和最佳模型(checkpoint)"
   ]
  },
  {
   "cell_type": "code",
   "execution_count": 8,
   "id": "fa9ae4e6",
   "metadata": {},
   "outputs": [
    {
     "name": "stdout",
     "output_type": "stream",
     "text": [
      "Device: cuda\n",
      "Using val_file for validation: ./mbpp_val.jsonl, samples=86\n",
      "Start training...\n"
     ]
    },
    {
     "name": "stderr",
     "output_type": "stream",
     "text": [
      "Epoch 1:   0%|          | 0/5 [00:00<?, ?it/s]/tmp/ipykernel_62639/307073869.py:128: FutureWarning: `torch.cuda.amp.autocast(args...)` is deprecated. Please use `torch.amp.autocast('cuda', args...)` instead.\n",
      "  with torch.cuda.amp.autocast(enabled=self.cfg['fp16']):\n",
      "Epoch 1: 100%|██████████| 5/5 [00:11<00:00,  2.20s/it, loss=0.1754, acc=95.24%]\n"
     ]
    },
    {
     "name": "stdout",
     "output_type": "stream",
     "text": [
      "Epoch 1 finished. avg_loss=0.7287, avg_acc=80.55%\n",
      "Saving checkpoint to ./models/bge-m3-finetuned/checkpoint-epoch-1\n",
      "Saved training history to ./models/bge-m3-finetuned/training_history.json\n",
      "Evaluating on 86 samples, using device cuda ...\n"
     ]
    },
    {
     "name": "stderr",
     "output_type": "stream",
     "text": [
      "Batches: 100%|██████████| 3/3 [00:00<00:00,  4.82it/s]\n",
      "Batches: 100%|██████████| 3/3 [00:00<00:00,  7.73it/s]\n"
     ]
    },
    {
     "name": "stdout",
     "output_type": "stream",
     "text": [
      "Eval after epoch 1: Recall@1=0.8256, MRR=0.8817\n",
      "New best MRR=0.8817, saving best checkpoint to ./models/bge-m3-finetuned/best_checkpoint\n"
     ]
    },
    {
     "name": "stderr",
     "output_type": "stream",
     "text": [
      "Epoch 2: 100%|██████████| 5/5 [00:23<00:00,  4.74s/it, loss=0.1289, acc=95.24%]\n"
     ]
    },
    {
     "name": "stdout",
     "output_type": "stream",
     "text": [
      "Epoch 2 finished. avg_loss=0.3898, avg_acc=89.05%\n",
      "Saving checkpoint to ./models/bge-m3-finetuned/checkpoint-epoch-2\n",
      "Saved training history to ./models/bge-m3-finetuned/training_history.json\n",
      "Evaluating on 86 samples, using device cuda ...\n"
     ]
    },
    {
     "name": "stderr",
     "output_type": "stream",
     "text": [
      "Batches: 100%|██████████| 3/3 [00:00<00:00,  7.99it/s]\n",
      "Batches: 100%|██████████| 3/3 [00:00<00:00,  7.75it/s]\n"
     ]
    },
    {
     "name": "stdout",
     "output_type": "stream",
     "text": [
      "Eval after epoch 2: Recall@1=0.8023, MRR=0.8653\n"
     ]
    },
    {
     "name": "stderr",
     "output_type": "stream",
     "text": [
      "Epoch 3: 100%|██████████| 5/5 [00:22<00:00,  4.44s/it, loss=0.0725, acc=95.24%]\n"
     ]
    },
    {
     "name": "stdout",
     "output_type": "stream",
     "text": [
      "Epoch 3 finished. avg_loss=0.3818, avg_acc=88.80%\n",
      "Saving checkpoint to ./models/bge-m3-finetuned/checkpoint-epoch-3\n",
      "Saved training history to ./models/bge-m3-finetuned/training_history.json\n",
      "Evaluating on 86 samples, using device cuda ...\n"
     ]
    },
    {
     "name": "stderr",
     "output_type": "stream",
     "text": [
      "Batches: 100%|██████████| 3/3 [00:00<00:00,  7.58it/s]\n",
      "Batches: 100%|██████████| 3/3 [00:00<00:00,  7.76it/s]\n"
     ]
    },
    {
     "name": "stdout",
     "output_type": "stream",
     "text": [
      "Eval after epoch 3: Recall@1=0.8837, MRR=0.9160\n",
      "New best MRR=0.9160, saving best checkpoint to ./models/bge-m3-finetuned/best_checkpoint\n"
     ]
    },
    {
     "name": "stderr",
     "output_type": "stream",
     "text": [
      "Epoch 4: 100%|██████████| 5/5 [00:20<00:00,  4.09s/it, loss=0.0156, acc=100.00%]\n"
     ]
    },
    {
     "name": "stdout",
     "output_type": "stream",
     "text": [
      "Epoch 4 finished. avg_loss=0.2108, avg_acc=94.75%\n",
      "Saving checkpoint to ./models/bge-m3-finetuned/checkpoint-epoch-4\n",
      "Saved training history to ./models/bge-m3-finetuned/training_history.json\n",
      "Evaluating on 86 samples, using device cuda ...\n"
     ]
    },
    {
     "name": "stderr",
     "output_type": "stream",
     "text": [
      "Batches: 100%|██████████| 3/3 [00:00<00:00,  7.77it/s]\n",
      "Batches: 100%|██████████| 3/3 [00:00<00:00,  7.74it/s]\n"
     ]
    },
    {
     "name": "stdout",
     "output_type": "stream",
     "text": [
      "Eval after epoch 4: Recall@1=0.8605, MRR=0.9062\n"
     ]
    },
    {
     "name": "stderr",
     "output_type": "stream",
     "text": [
      "Epoch 5: 100%|██████████| 5/5 [00:17<00:00,  3.58s/it, loss=0.0001, acc=100.00%]\n"
     ]
    },
    {
     "name": "stdout",
     "output_type": "stream",
     "text": [
      "Epoch 5 finished. avg_loss=0.0934, avg_acc=97.25%\n",
      "Saving checkpoint to ./models/bge-m3-finetuned/checkpoint-epoch-5\n",
      "Saved training history to ./models/bge-m3-finetuned/training_history.json\n",
      "Evaluating on 86 samples, using device cuda ...\n"
     ]
    },
    {
     "name": "stderr",
     "output_type": "stream",
     "text": [
      "Batches: 100%|██████████| 3/3 [00:00<00:00,  7.48it/s]\n",
      "Batches: 100%|██████████| 3/3 [00:00<00:00,  7.73it/s]\n"
     ]
    },
    {
     "name": "stdout",
     "output_type": "stream",
     "text": [
      "Eval after epoch 5: Recall@1=0.8605, MRR=0.9034\n"
     ]
    },
    {
     "name": "stderr",
     "output_type": "stream",
     "text": [
      "Epoch 6: 100%|██████████| 5/5 [00:23<00:00,  4.76s/it, loss=0.0005, acc=100.00%]\n"
     ]
    },
    {
     "name": "stdout",
     "output_type": "stream",
     "text": [
      "Epoch 6 finished. avg_loss=0.0771, avg_acc=96.75%\n",
      "Saving checkpoint to ./models/bge-m3-finetuned/checkpoint-epoch-6\n",
      "Saved training history to ./models/bge-m3-finetuned/training_history.json\n",
      "Evaluating on 86 samples, using device cuda ...\n"
     ]
    },
    {
     "name": "stderr",
     "output_type": "stream",
     "text": [
      "Batches: 100%|██████████| 3/3 [00:00<00:00,  9.45it/s]\n",
      "Batches: 100%|██████████| 3/3 [00:00<00:00,  7.66it/s]\n"
     ]
    },
    {
     "name": "stdout",
     "output_type": "stream",
     "text": [
      "Eval after epoch 6: Recall@1=0.8256, MRR=0.8812\n"
     ]
    },
    {
     "name": "stderr",
     "output_type": "stream",
     "text": [
      "Epoch 7: 100%|██████████| 5/5 [00:13<00:00,  2.66s/it, loss=0.0967, acc=95.24%] \n"
     ]
    },
    {
     "name": "stdout",
     "output_type": "stream",
     "text": [
      "Epoch 7 finished. avg_loss=0.0810, avg_acc=97.55%\n",
      "Saving checkpoint to ./models/bge-m3-finetuned/checkpoint-epoch-7\n",
      "Saved training history to ./models/bge-m3-finetuned/training_history.json\n",
      "Evaluating on 86 samples, using device cuda ...\n"
     ]
    },
    {
     "name": "stderr",
     "output_type": "stream",
     "text": [
      "Batches: 100%|██████████| 3/3 [00:00<00:00,  8.88it/s]\n",
      "Batches: 100%|██████████| 3/3 [00:00<00:00,  7.70it/s]\n"
     ]
    },
    {
     "name": "stdout",
     "output_type": "stream",
     "text": [
      "Eval after epoch 7: Recall@1=0.8372, MRR=0.8846\n"
     ]
    },
    {
     "name": "stderr",
     "output_type": "stream",
     "text": [
      "Epoch 8: 100%|██████████| 5/5 [00:24<00:00,  4.81s/it, loss=0.3463, acc=95.24%] \n"
     ]
    },
    {
     "name": "stdout",
     "output_type": "stream",
     "text": [
      "Epoch 8 finished. avg_loss=0.1127, avg_acc=97.80%\n",
      "Saving checkpoint to ./models/bge-m3-finetuned/checkpoint-epoch-8\n",
      "Saved training history to ./models/bge-m3-finetuned/training_history.json\n",
      "Evaluating on 86 samples, using device cuda ...\n"
     ]
    },
    {
     "name": "stderr",
     "output_type": "stream",
     "text": [
      "Batches: 100%|██████████| 3/3 [00:00<00:00,  9.04it/s]\n",
      "Batches: 100%|██████████| 3/3 [00:00<00:00,  7.84it/s]\n"
     ]
    },
    {
     "name": "stdout",
     "output_type": "stream",
     "text": [
      "Eval after epoch 8: Recall@1=0.8372, MRR=0.8855\n"
     ]
    },
    {
     "name": "stderr",
     "output_type": "stream",
     "text": [
      "Epoch 9: 100%|██████████| 5/5 [00:19<00:00,  3.91s/it, loss=0.0033, acc=100.00%]\n"
     ]
    },
    {
     "name": "stdout",
     "output_type": "stream",
     "text": [
      "Epoch 9 finished. avg_loss=0.0694, avg_acc=97.25%\n",
      "Saving checkpoint to ./models/bge-m3-finetuned/checkpoint-epoch-9\n",
      "Saved training history to ./models/bge-m3-finetuned/training_history.json\n",
      "Evaluating on 86 samples, using device cuda ...\n"
     ]
    },
    {
     "name": "stderr",
     "output_type": "stream",
     "text": [
      "Batches: 100%|██████████| 3/3 [00:00<00:00,  9.14it/s]\n",
      "Batches: 100%|██████████| 3/3 [00:00<00:00,  7.72it/s]\n"
     ]
    },
    {
     "name": "stdout",
     "output_type": "stream",
     "text": [
      "Eval after epoch 9: Recall@1=0.8372, MRR=0.8895\n"
     ]
    },
    {
     "name": "stderr",
     "output_type": "stream",
     "text": [
      "Epoch 10: 100%|██████████| 5/5 [00:19<00:00,  3.98s/it, loss=0.0009, acc=100.00%]\n"
     ]
    },
    {
     "name": "stdout",
     "output_type": "stream",
     "text": [
      "Epoch 10 finished. avg_loss=0.0269, avg_acc=99.00%\n",
      "Saving checkpoint to ./models/bge-m3-finetuned/checkpoint-epoch-10\n",
      "Saved training history to ./models/bge-m3-finetuned/training_history.json\n",
      "Evaluating on 86 samples, using device cuda ...\n"
     ]
    },
    {
     "name": "stderr",
     "output_type": "stream",
     "text": [
      "Batches: 100%|██████████| 3/3 [00:00<00:00,  7.30it/s]\n",
      "Batches: 100%|██████████| 3/3 [00:00<00:00,  7.68it/s]\n"
     ]
    },
    {
     "name": "stdout",
     "output_type": "stream",
     "text": [
      "Eval after epoch 10: Recall@1=0.8372, MRR=0.8886\n",
      "Training finished. Final model saved to ./models/bge-m3-finetuned/final_model\n"
     ]
    }
   ],
   "source": [
    "import os\n",
    "# 设置tokenizers并行ism以避免DataLoader多进程警告\n",
    "os.environ[\"TOKENIZERS_PARALLELISM\"] = \"false\"\n",
    "\n",
    "config = {\n",
    "    \"train_file\": \"./mbpp_train.jsonl\",\n",
    "    \"model_path\": \"./bge-m3\",\n",
    "    \"output_dir\": \"./models/bge-m3-finetuned\",\n",
    "    \"epochs\": 10,\n",
    "    \"batch_size\": 80,\n",
    "    \"query_max_len\": 512,\n",
    "    \"passage_max_len\": 512,\n",
    "    \"lr\": 2e-4,\n",
    "    \"accumulation_steps\": 2,\n",
    "    \"fp16\": True,  # 是否启用混合精度\n",
    "    \"weight_decay\": 0.01,\n",
    "    \"num_workers\": 2,\n",
    "    \"temperature\": 0.02\n",
    "}\n",
    "\n",
    "prepare_and_train(config)"
   ]
  },
  {
   "cell_type": "markdown",
   "id": "6ikbf4guc9b",
   "metadata": {},
   "source": [
    "# 训练配置与执行\n",
    " \n",
    " 本单元配置并启动模型训练：\n",
    " - 设置训练参数：学习率、批大小、训练轮数等\n",
    " - 配置模型路径和数据路径\n",
    " - 调用训练函数开始微调BGE-M3模型\n",
    " - 训练过程中会自动保存每个epoch的checkpoint和最佳模型"
   ]
  },
  {
   "cell_type": "code",
   "execution_count": 9,
   "id": "d560d170",
   "metadata": {},
   "outputs": [
    {
     "name": "stdout",
     "output_type": "stream",
     "text": [
      "使用评估文件: ./mbpp_val.jsonl\n",
      "Device for encoding: cuda\n",
      "\n",
      "加载模型 baseline from ./models/bge-m3-finetuned/final_model ...\n"
     ]
    },
    {
     "name": "stderr",
     "output_type": "stream",
     "text": [
      "Batches: 100%|██████████| 3/3 [00:00<00:00, 21.07it/s]\n",
      "Batches: 100%|██████████| 3/3 [00:00<00:00,  7.69it/s]\n"
     ]
    },
    {
     "name": "stdout",
     "output_type": "stream",
     "text": [
      "\n",
      "加载模型 bge_m3 from ./bge-m3 ...\n"
     ]
    },
    {
     "name": "stderr",
     "output_type": "stream",
     "text": [
      "Batches: 100%|██████████| 3/3 [00:00<00:00,  7.28it/s]\n",
      "Batches: 100%|██████████| 3/3 [00:00<00:00,  7.82it/s]"
     ]
    },
    {
     "name": "stdout",
     "output_type": "stream",
     "text": [
      "\n",
      "=== 评估结果对比 ===\n",
      "baseline: n=86, Recall@1=0.8372, MRR=0.8886\n",
      "bge_m3: n=86, Recall@1=0.7791, MRR=0.8380\n",
      "\n",
      "增益（bge_m3 - baseline）:\n",
      "Recall@1 增益: -0.0581\n",
      "MRR 增益: -0.0507\n",
      "\n",
      "评估完成\n",
      "Saved eval results to ./models/bge-m3-finetuned/eval_results.json\n"
     ]
    },
    {
     "name": "stderr",
     "output_type": "stream",
     "text": [
      "\n"
     ]
    }
   ],
   "source": [
    "# 评估单元：将微调后模型作为 baseline，bge-m3（未微调）作为对比\n",
    "# 说明：本单元会从训练数据或已加载变量中构建评估集合，使用 SentenceTransformer 对 query 和 passage 进行编码并计算指标。\n",
    "import os\n",
    "# 设置tokenizers并行ism以避免DataLoader多进程警告\n",
    "os.environ[\"TOKENIZERS_PARALLELISM\"] = \"false\"\n",
    "\n",
    "import json\n",
    "import random\n",
    "import numpy as np\n",
    "import torch\n",
    "from sentence_transformers import SentenceTransformer\n",
    "from tqdm.auto import tqdm\n",
    "\n",
    "# 可配置项\n",
    "EVAL_MAX = 1000  # 评估样本上限，减小以便快速测试\n",
    "SEED = 42\n",
    "\n",
    "# 尝试定位评估数据文件（优先使用验证集/指定的 eval file）\n",
    "eval_candidates = []\n",
    "if isinstance(config, dict):\n",
    "    if config.get('eval_file'):\n",
    "        eval_candidates.append(config.get('eval_file'))\n",
    "    # keep train_file as fallback\n",
    "    if config.get('train_file'):\n",
    "        eval_candidates.append(config.get('train_file'))\n",
    "\n",
    "# 如果之前单元定义了 out_val 或 out_train 变量，也加入候选（更靠前）\n",
    "if 'out_val' in globals():\n",
    "    eval_candidates.insert(0, out_val)\n",
    "if 'out_train' in globals():\n",
    "    eval_candidates.append(out_train)\n",
    "\n",
    "# 最后加入可能的绝对路径（验证优先，训练为最后退路）\n",
    "eval_candidates.extend([\n",
    "    \"./mbpp_val.jsonl\",\n",
    "    \"./mbpp_train.jsonl\",\n",
    "])\n",
    "\n",
    "train_file = None\n",
    "for p in eval_candidates:\n",
    "    if not p:\n",
    "        continue\n",
    "    if os.path.exists(p):\n",
    "        train_file = p\n",
    "        break\n",
    "\n",
    "if train_file is None:\n",
    "    raise FileNotFoundError('未找到可用于评估的文件（尝试过 eval/train 路径），请先生成 mbpp_val.jsonl 或 mbpp_train.jsonl')\n",
    "print('使用评估文件:', train_file)\n",
    "\n",
    "# 读取 samples（jsonl）\n",
    "samples = []\n",
    "with open(train_file, 'r', encoding='utf-8') as f:\n",
    "    for line in f:\n",
    "        line = line.strip()\n",
    "        if not line:\n",
    "            continue\n",
    "        samples.append(json.loads(line))\n",
    "\n",
    "if len(samples) == 0:\n",
    "    raise ValueError('评估文件中未读到样本')\n",
    "\n",
    "# 采样子集用于快速评估\n",
    "random.seed(SEED)\n",
    "if len(samples) > EVAL_MAX:\n",
    "    samples = random.sample(samples, EVAL_MAX)\n",
    "\n",
    "queries = [s.get('query') or s.get('prompt') or s.get('text') or '' for s in samples]\n",
    "pos_docs = [s.get('pos_doc') or s.get('code') or '' for s in samples]\n",
    "\n",
    "# 准备模型路径：我们把微调后的模型作为 baseline，未微调的 bge-m3 作为对比\n",
    "bge_unfinetuned_path = config.get('model_path') if isinstance(config, dict) else './bge-m3'\n",
    "finetuned_dir = os.path.join(config.get('output_dir'), 'final_model') if isinstance(config, dict) else None\n",
    "\n",
    "models_to_check = []\n",
    "# baseline 指向微调后模型\n",
    "if finetuned_dir and os.path.exists(finetuned_dir):\n",
    "    models_to_check.append((\"baseline\", finetuned_dir))\n",
    "else:\n",
    "    print(f\"未检测到微调后模型目录: {finetuned_dir}，baseline 无法指向微调模型\")\n",
    "\n",
    "# 对比模型：bge-m3（未微调）\n",
    "if bge_unfinetuned_path and os.path.exists(bge_unfinetuned_path):\n",
    "    models_to_check.append((\"bge_m3\", bge_unfinetuned_path))\n",
    "else:\n",
    "    print(f\"未检测到未微调模型目录: {bge_unfinetuned_path}\")\n",
    "\n",
    "if len(models_to_check) == 0:\n",
    "    raise FileNotFoundError('未找到任何可评估的模型路径')\n",
    "\n",
    "# 设备设置\n",
    "device = 'cuda' if torch.cuda.is_available() else 'cpu'\n",
    "print('Device for encoding:', device)\n",
    "\n",
    "# 评估函数\n",
    "\n",
    "def evaluate_model(name, model_path, queries, pos_docs, device=device, batch_size=32):\n",
    "    print(f\"\\n加载模型 {name} from {model_path} ...\")\n",
    "    s = SentenceTransformer(model_path, device=device, trust_remote_code=True)\n",
    "\n",
    "    # 编码（返回 torch tensor）\n",
    "    q_emb = s.encode(queries, batch_size=batch_size, convert_to_tensor=True, show_progress_bar=True)\n",
    "    p_emb = s.encode(pos_docs, batch_size=batch_size, convert_to_tensor=True, show_progress_bar=True)\n",
    "\n",
    "    q_emb = torch.nn.functional.normalize(q_emb, p=2, dim=-1)\n",
    "    p_emb = torch.nn.functional.normalize(p_emb, p=2, dim=-1)\n",
    "\n",
    "    sim = (q_emb @ p_emb.T).cpu().numpy()\n",
    "\n",
    "    n = sim.shape[0]\n",
    "    ranks = []\n",
    "    for i in range(n):\n",
    "        order = np.argsort(-sim[i])\n",
    "        rank = int(np.where(order == i)[0][0])\n",
    "        ranks.append(rank)\n",
    "\n",
    "    ranks = np.array(ranks)\n",
    "    recall_at_1 = np.mean(ranks == 0)\n",
    "    mrr = np.mean(1.0 / (ranks + 1.0))\n",
    "    return {'recall@1': float(recall_at_1), 'mrr': float(mrr), 'n': int(n)}\n",
    "\n",
    "# 逐个模型评估\n",
    "results = {}\n",
    "for name, path in models_to_check:\n",
    "    try:\n",
    "        results[name] = evaluate_model(name, path, queries, pos_docs)\n",
    "    except Exception as e:\n",
    "        print(f\"评估模型 {name} 时发生错误: {e}\")\n",
    "\n",
    "# 打印比较结果\n",
    "print('\\n=== 评估结果对比 ===')\n",
    "for name, res in results.items():\n",
    "    print(f\"{name}: n={res['n']}, Recall@1={res['recall@1']:.4f}, MRR={res['mrr']:.4f}\")\n",
    "\n",
    "# 如果同时有 baseline（微调）和 bge_m3（未微调），打印增益：对比模型 - baseline\n",
    "if 'baseline' in results and 'bge_m3' in results:\n",
    "    bas = results['baseline']\n",
    "    bge = results['bge_m3']\n",
    "    print('\\n增益（bge_m3 - baseline）:')\n",
    "    print(f\"Recall@1 增益: {bge['recall@1'] - bas['recall@1']:.4f}\")\n",
    "    print(f\"MRR 增益: {bge['mrr'] - bas['mrr']:.4f}\")\n",
    "\n",
    "print('\\n评估完成')\n",
    "\n",
    "# 保存 eval 结果\n",
    "try:\n",
    "    out_dir = config.get('output_dir') if isinstance(config, dict) else './models/bge-m3-finetuned'\n",
    "    os.makedirs(out_dir, exist_ok=True)\n",
    "    eval_save_path = os.path.join(out_dir, 'eval_results.json')\n",
    "    with open(eval_save_path, 'w', encoding='utf-8') as ef:\n",
    "        json.dump(results, ef, ensure_ascii=False, indent=2)\n",
    "    print('Saved eval results to', eval_save_path)\n",
    "except Exception as e:\n",
    "    print('保存 eval_results.json 失败:', e)"
   ]
  },
  {
   "cell_type": "markdown",
   "id": "37zgz9gr423",
   "metadata": {},
   "source": [
    "# 模型评估与对比\n",
    " \n",
    " 本单元对训练后的模型进行评估：\n",
    " - 加载微调后的模型(baseline)和原始BGE-M3模型进行对比\n",
    " - 使用验证集计算Recall@1和MRR指标\n",
    " - 比较微调前后模型的性能差异\n",
    " - 保存评估结果到eval_results.json文件"
   ]
  },
  {
   "cell_type": "code",
   "execution_count": 10,
   "id": "577c4268",
   "metadata": {},
   "outputs": [
    {
     "name": "stdout",
     "output_type": "stream",
     "text": [
      "Loaded history from ./models/bge-m3-finetuned/training_history.json\n",
      "steps: 50, epochs: 10\n",
      "Loaded eval results from ./models/bge-m3-finetuned/eval_results.json\n"
     ]
    },
    {
     "data": {
      "image/png": "[encoded data removed]",
      "text/plain": [
       "<Figure size 800x234 with 1 Axes>"
      ]
     },
     "metadata": {},
     "output_type": "display_data"
    },
    {
     "data": {
      "image/png": "[encoded data removed]",
      "text/plain": [
       "<Figure size 1400x600 with 3 Axes>"
      ]
     },
     "metadata": {},
     "output_type": "display_data"
    },
    {
     "name": "stdout",
     "output_type": "stream",
     "text": [
      "最后 epoch_loss: [0.07709380217711441, 0.08098416924476623, 0.1126649484038353, 0.06944410153664649, 0.026943660387769342]\n",
      "最后 epoch_acc: [0.9675000190734864, 0.9754762053489685, 0.9779762029647827, 0.9725000143051148, 0.9900000095367432]\n",
      "最后 5 个 step loss: [0.032571591436862946, 0.026578854769468307, 0.025565046817064285, 0.049150269478559494, 0.000852539436891675]\n"
     ]
    }
   ],
   "source": [
    "# 可视化训练历史（training_history.json）\n",
    "# 从 output_dir 读取 training_history.json 并绘制 step loss / epoch loss / epoch acc，并显示 config 表格\n",
    "import os\n",
    "import json\n",
    "from pathlib import Path\n",
    "import matplotlib.pyplot as plt\n",
    "import numpy as np\n",
    "\n",
    "out_dir = config.get('output_dir') if isinstance(config, dict) else './models/bge-m3-finetuned'\n",
    "hist_path = os.path.join(out_dir, 'training_history.json')\n",
    "\n",
    "if not os.path.exists(hist_path):\n",
    "    print(f\"未找到训练历史文件: {hist_path}\\n请先运行训练并确保 training_history.json 已写入 output_dir。\")\n",
    "else:\n",
    "    with open(hist_path, 'r', encoding='utf-8') as hf:\n",
    "        hist = json.load(hf)\n",
    "\n",
    "    step_losses = hist.get('step_losses', [])\n",
    "    step_accs = hist.get('step_accs', [])\n",
    "    epoch_idx = hist.get('epoch', [])\n",
    "    epoch_loss = hist.get('epoch_loss', [])\n",
    "    epoch_acc = hist.get('epoch_acc', [])\n",
    "\n",
    "    print('Loaded history from', hist_path)\n",
    "    print(f\"steps: {len(step_losses)}, epochs: {len(epoch_idx)}\")\n",
    "\n",
    "    # 尝试读取评估结果（eval_results.json），格式为 {model_name: {\"recall@1\":..., \"mrr\":..., \"n\":...}, ...}\n",
    "    eval_path = os.path.join(out_dir, 'eval_results.json')\n",
    "    eval_results = None\n",
    "    if os.path.exists(eval_path):\n",
    "        try:\n",
    "            with open(eval_path, 'r', encoding='utf-8') as ef:\n",
    "                eval_results = json.load(ef)\n",
    "            print('Loaded eval results from', eval_path)\n",
    "        except Exception as e:\n",
    "            print('读取 eval_results.json 失败:', e)\n",
    "\n",
    "    # 显示 config 的重要参数表格（使用 matplotlib table，避免额外依赖）\n",
    "    try:\n",
    "        cfg = config if isinstance(config, dict) else {}\n",
    "        keys = [\n",
    "            'train_file', 'model_path', 'output_dir', 'epochs', 'batch_size', 'lr',\n",
    "            'accumulation_steps', 'fp16', 'temperature', 'query_max_len', 'passage_max_len',\n",
    "            'weight_decay', 'num_workers'\n",
    "        ]\n",
    "        rows = []\n",
    "        for k in keys:\n",
    "            v = cfg.get(k, None)\n",
    "            if v is None:\n",
    "                # 尝试从 globals 中获取替代值\n",
    "                v = globals().get(k, '')\n",
    "            rows.append([str(v)])\n",
    "\n",
    "        fig_table = plt.figure(figsize=(8, max(0.6, 0.18 * len(rows))))\n",
    "        ax_table = fig_table.add_subplot(111)\n",
    "        ax_table.axis('off')\n",
    "        table = ax_table.table(cellText=rows, rowLabels=keys, colLabels=['value'], loc='center', cellLoc='left')\n",
    "        table.auto_set_font_size(False)\n",
    "        table.set_fontsize(9)\n",
    "        table.scale(1, 1.2)\n",
    "        plt.title('Config summary', fontsize=10)\n",
    "        plt.show()\n",
    "    except Exception as e:\n",
    "        print('绘制 config 表格失败:', e)\n",
    "\n",
    "    # 绘图：1 行 3 列（左: step losses, 中: epoch metrics, 右: eval metrics）\n",
    "    fig = plt.figure(constrained_layout=True, figsize=(14,6))\n",
    "    gs = fig.add_gridspec(1, 3)\n",
    "\n",
    "    ax0 = fig.add_subplot(gs[0, 0])\n",
    "    if step_losses:\n",
    "        ax0.plot(step_losses, color='tab:blue', alpha=0.8)\n",
    "        ax0.set_title('Step losses')\n",
    "        ax0.set_xlabel('step')\n",
    "        ax0.set_ylabel('loss')\n",
    "    else:\n",
    "        ax0.text(0.5, 0.5, 'no step_losses', ha='center', va='center')\n",
    "        ax0.set_title('Step losses')\n",
    "        ax0.set_xticks([])\n",
    "        ax0.set_yticks([])\n",
    "\n",
    "    ax1 = fig.add_subplot(gs[0, 1])\n",
    "    if epoch_loss:\n",
    "        ax1.plot(epoch_idx, epoch_loss, marker='o', label='epoch_loss', color='tab:orange')\n",
    "    if epoch_acc:\n",
    "        ax1.plot(epoch_idx, epoch_acc, marker='x', label='epoch_acc', color='tab:green')\n",
    "    ax1.set_title('Epoch metrics')\n",
    "    ax1.set_xlabel('epoch')\n",
    "    ax1.legend()\n",
    "\n",
    "    ax2 = fig.add_subplot(gs[0, 2])\n",
    "    if eval_results:\n",
    "        # 将 eval_results 按模型名排序并绘制 grouped bar（Recall@1 和 MRR）\n",
    "        model_names = list(eval_results.keys())\n",
    "        recall_vals = [eval_results[m].get('recall@1', 0.0) for m in model_names]\n",
    "        mrr_vals = [eval_results[m].get('mrr', 0.0) for m in model_names]\n",
    "        x = np.arange(len(model_names))\n",
    "        width = 0.35\n",
    "        ax2.bar(x - width/2, recall_vals, width, label='Recall@1', color='tab:purple')\n",
    "        ax2.bar(x + width/2, mrr_vals, width, label='MRR', color='tab:cyan')\n",
    "        ax2.set_xticks(x)\n",
    "        ax2.set_xticklabels(model_names, rotation=30)\n",
    "        ax2.set_ylim(0, 1.0)\n",
    "        ax2.set_title('Evaluation comparison')\n",
    "        ax2.legend()\n",
    "        for i, v in enumerate(recall_vals):\n",
    "            ax2.text(i - width/2, v + 0.02, f\"{v:.3f}\", ha='center', va='bottom', fontsize=8)\n",
    "        for i, v in enumerate(mrr_vals):\n",
    "            ax2.text(i + width/2, v + 0.02, f\"{v:.3f}\", ha='center', va='bottom', fontsize=8)\n",
    "    else:\n",
    "        ax2.text(0.5, 0.5, 'no eval_results.json', ha='center', va='center')\n",
    "        ax2.set_title('Evaluation comparison')\n",
    "        ax2.set_xticks([])\n",
    "        ax2.set_yticks([])\n",
    "\n",
    "    plt.show()\n",
    "\n",
    "    # 额外打印最后几个值便于快速判断\n",
    "    if epoch_loss:\n",
    "        print('最后 epoch_loss:', epoch_loss[-5:])\n",
    "    if epoch_acc:\n",
    "        print('最后 epoch_acc:', epoch_acc[-5:])\n",
    "    if step_losses:\n",
    "        print('最后 5 个 step loss:', step_losses[-5:])\n"
   ]
  }
 ],
 "metadata": {
  "kernelspec": {
   "display_name": "train_code_embedding",
   "language": "python",
   "name": "python3"
  },
  "language_info": {
   "codemirror_mode": {
    "name": "ipython",
    "version": 3
   },
   "file_extension": ".py",
   "mimetype": "text/x-python",
   "name": "python",
   "nbconvert_exporter": "python",
   "pygments_lexer": "ipython3",
   "version": "3.10.18"
  }
 },
 "nbformat": 4,
 "nbformat_minor": 5
}
