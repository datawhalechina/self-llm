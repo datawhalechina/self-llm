{
 "cells": [
  {
   "cell_type": "markdown",
   "metadata": {},
   "source": [
    "# C-MTEB检索任务评测对比"
   ]
  },
  {
   "cell_type": "markdown",
   "metadata": {},
   "source": [
    "本notebook用于评测两个模型在C-MTEB检索任务上的性能：\n",
    "1. **BGE-M3** (`./bge-m3`)\n",
    "2. **BGE-Reranker-M3-Finetuned** (`./final_model`)\n",
    "\n",
    "我们将对这两个模型进行C-MTEB检索任务的评测，并可视化对比结果。\n",
    "\n",
    "**注意**: 为了节省显存，我们将依次评测每个模型，评测完成后会清理显存。"
   ]
  },
  {
   "cell_type": "markdown",
   "metadata": {},
   "source": [
    "## 0. 安装依赖"
   ]
  },
  {
   "cell_type": "code",
   "execution_count": 1,
   "metadata": {},
   "outputs": [
    {
     "name": "stdout",
     "output_type": "stream",
     "text": [
      "Looking in indexes: https://pypi.tuna.tsinghua.edu.cn/simple\n",
      "Requirement already satisfied: FlagEmbedding in /home/xiaoke/miniconda3/envs/train_code_embedding/lib/python3.10/site-packages (1.3.5)\n",
      "Requirement already satisfied: mteb in /home/xiaoke/miniconda3/envs/train_code_embedding/lib/python3.10/site-packages (1.38.48)\n",
      "Requirement already satisfied: sentence-transformers in /home/xiaoke/miniconda3/envs/train_code_embedding/lib/python3.10/site-packages (5.1.0)\n",
      "Requirement already satisfied: pandas in /home/xiaoke/miniconda3/envs/train_code_embedding/lib/python3.10/site-packages (2.3.2)\n",
      "Requirement already satisfied: matplotlib in /home/xiaoke/miniconda3/envs/train_code_embedding/lib/python3.10/site-packages (3.10.5)\n",
      "Requirement already satisfied: seaborn in /home/xiaoke/miniconda3/envs/train_code_embedding/lib/python3.10/site-packages (0.13.2)\n",
      "Requirement already satisfied: numpy in /home/xiaoke/miniconda3/envs/train_code_embedding/lib/python3.10/site-packages (2.2.6)\n",
      "Requirement already satisfied: torch>=1.6.0 in /home/xiaoke/miniconda3/envs/train_code_embedding/lib/python3.10/site-packages (from FlagEmbedding) (2.8.0)\n",
      "Requirement already satisfied: transformers>=4.44.2 in /home/xiaoke/miniconda3/envs/train_code_embedding/lib/python3.10/site-packages (from FlagEmbedding) (4.55.4)\n",
      "Requirement already satisfied: datasets>=2.19.0 in /home/xiaoke/miniconda3/envs/train_code_embedding/lib/python3.10/site-packages (from FlagEmbedding) (3.6.0)\n",
      "Requirement already satisfied: accelerate>=0.20.1 in /home/xiaoke/miniconda3/envs/train_code_embedding/lib/python3.10/site-packages (from FlagEmbedding) (1.10.0)\n",
      "Requirement already satisfied: peft in /home/xiaoke/miniconda3/envs/train_code_embedding/lib/python3.10/site-packages (from FlagEmbedding) (0.17.1)\n",
      "Requirement already satisfied: ir-datasets in /home/xiaoke/miniconda3/envs/train_code_embedding/lib/python3.10/site-packages (from FlagEmbedding) (0.5.11)\n",
      "Requirement already satisfied: sentencepiece in /home/xiaoke/miniconda3/envs/train_code_embedding/lib/python3.10/site-packages (from FlagEmbedding) (0.2.1)\n",
      "Requirement already satisfied: protobuf in /home/xiaoke/miniconda3/envs/train_code_embedding/lib/python3.10/site-packages (from FlagEmbedding) (6.32.0)\n",
      "Requirement already satisfied: requests>=2.26.0 in /home/xiaoke/miniconda3/envs/train_code_embedding/lib/python3.10/site-packages (from mteb) (2.32.5)\n",
      "Requirement already satisfied: scikit_learn>=1.0.2 in /home/xiaoke/miniconda3/envs/train_code_embedding/lib/python3.10/site-packages (from mteb) (1.7.1)\n",
      "Requirement already satisfied: scipy>=0.0.0 in /home/xiaoke/miniconda3/envs/train_code_embedding/lib/python3.10/site-packages (from mteb) (1.15.2)\n",
      "Requirement already satisfied: typing-extensions>=4.5.0 in /home/xiaoke/miniconda3/envs/train_code_embedding/lib/python3.10/site-packages (from mteb) (4.14.1)\n",
      "Requirement already satisfied: tqdm>1.0.0 in /home/xiaoke/miniconda3/envs/train_code_embedding/lib/python3.10/site-packages (from mteb) (4.67.1)\n",
      "Requirement already satisfied: rich>=0.0.0 in /home/xiaoke/miniconda3/envs/train_code_embedding/lib/python3.10/site-packages (from mteb) (14.1.0)\n",
      "Requirement already satisfied: pytrec-eval-terrier>=0.5.6 in /home/xiaoke/miniconda3/envs/train_code_embedding/lib/python3.10/site-packages (from mteb) (0.5.8)\n",
      "Requirement already satisfied: pydantic>=2.0.0 in /home/xiaoke/miniconda3/envs/train_code_embedding/lib/python3.10/site-packages (from mteb) (2.11.7)\n",
      "Requirement already satisfied: eval_type_backport>=0.0.0 in /home/xiaoke/miniconda3/envs/train_code_embedding/lib/python3.10/site-packages (from mteb) (0.2.2)\n",
      "Requirement already satisfied: polars>=0.20.22 in /home/xiaoke/miniconda3/envs/train_code_embedding/lib/python3.10/site-packages (from mteb) (1.32.3)\n",
      "Requirement already satisfied: filelock in /home/xiaoke/miniconda3/envs/train_code_embedding/lib/python3.10/site-packages (from datasets>=2.19.0->FlagEmbedding) (3.19.1)\n",
      "Requirement already satisfied: pyarrow>=15.0.0 in /home/xiaoke/miniconda3/envs/train_code_embedding/lib/python3.10/site-packages (from datasets>=2.19.0->FlagEmbedding) (21.0.0)\n",
      "Requirement already satisfied: dill<0.3.9,>=0.3.0 in /home/xiaoke/miniconda3/envs/train_code_embedding/lib/python3.10/site-packages (from datasets>=2.19.0->FlagEmbedding) (0.3.8)\n",
      "Requirement already satisfied: xxhash in /home/xiaoke/miniconda3/envs/train_code_embedding/lib/python3.10/site-packages (from datasets>=2.19.0->FlagEmbedding) (3.5.0)\n",
      "Requirement already satisfied: multiprocess<0.70.17 in /home/xiaoke/miniconda3/envs/train_code_embedding/lib/python3.10/site-packages (from datasets>=2.19.0->FlagEmbedding) (0.70.16)\n",
      "Requirement already satisfied: fsspec<=2025.3.0,>=2023.1.0 in /home/xiaoke/miniconda3/envs/train_code_embedding/lib/python3.10/site-packages (from fsspec[http]<=2025.3.0,>=2023.1.0->datasets>=2.19.0->FlagEmbedding) (2025.3.0)\n",
      "Requirement already satisfied: huggingface-hub>=0.24.0 in /home/xiaoke/miniconda3/envs/train_code_embedding/lib/python3.10/site-packages (from datasets>=2.19.0->FlagEmbedding) (0.34.4)\n",
      "Requirement already satisfied: packaging in /home/xiaoke/miniconda3/envs/train_code_embedding/lib/python3.10/site-packages (from datasets>=2.19.0->FlagEmbedding) (25.0)\n",
      "Requirement already satisfied: pyyaml>=5.1 in /home/xiaoke/miniconda3/envs/train_code_embedding/lib/python3.10/site-packages (from datasets>=2.19.0->FlagEmbedding) (6.0.2)\n",
      "Requirement already satisfied: aiohttp!=4.0.0a0,!=4.0.0a1 in /home/xiaoke/miniconda3/envs/train_code_embedding/lib/python3.10/site-packages (from fsspec[http]<=2025.3.0,>=2023.1.0->datasets>=2.19.0->FlagEmbedding) (3.12.15)\n",
      "Requirement already satisfied: Pillow in /home/xiaoke/miniconda3/envs/train_code_embedding/lib/python3.10/site-packages (from sentence-transformers) (11.3.0)\n",
      "Requirement already satisfied: regex!=2019.12.17 in /home/xiaoke/miniconda3/envs/train_code_embedding/lib/python3.10/site-packages (from transformers>=4.44.2->FlagEmbedding) (2025.7.34)\n",
      "Requirement already satisfied: tokenizers<0.22,>=0.21 in /home/xiaoke/miniconda3/envs/train_code_embedding/lib/python3.10/site-packages (from transformers>=4.44.2->FlagEmbedding) (0.21.4)\n",
      "Requirement already satisfied: safetensors>=0.4.3 in /home/xiaoke/miniconda3/envs/train_code_embedding/lib/python3.10/site-packages (from transformers>=4.44.2->FlagEmbedding) (0.6.2)\n",
      "Requirement already satisfied: hf-xet<2.0.0,>=1.1.3 in /home/xiaoke/miniconda3/envs/train_code_embedding/lib/python3.10/site-packages (from huggingface-hub>=0.24.0->datasets>=2.19.0->FlagEmbedding) (1.1.8)\n",
      "Requirement already satisfied: python-dateutil>=2.8.2 in /home/xiaoke/miniconda3/envs/train_code_embedding/lib/python3.10/site-packages (from pandas) (2.9.0.post0)\n",
      "Requirement already satisfied: pytz>=2020.1 in /home/xiaoke/miniconda3/envs/train_code_embedding/lib/python3.10/site-packages (from pandas) (2025.2)\n",
      "Requirement already satisfied: tzdata>=2022.7 in /home/xiaoke/miniconda3/envs/train_code_embedding/lib/python3.10/site-packages (from pandas) (2025.2)\n",
      "Requirement already satisfied: contourpy>=1.0.1 in /home/xiaoke/miniconda3/envs/train_code_embedding/lib/python3.10/site-packages (from matplotlib) (1.3.2)\n",
      "Requirement already satisfied: cycler>=0.10 in /home/xiaoke/miniconda3/envs/train_code_embedding/lib/python3.10/site-packages (from matplotlib) (0.12.1)\n",
      "Requirement already satisfied: fonttools>=4.22.0 in /home/xiaoke/miniconda3/envs/train_code_embedding/lib/python3.10/site-packages (from matplotlib) (4.59.1)\n",
      "Requirement already satisfied: kiwisolver>=1.3.1 in /home/xiaoke/miniconda3/envs/train_code_embedding/lib/python3.10/site-packages (from matplotlib) (1.4.9)\n",
      "Requirement already satisfied: pyparsing>=2.3.1 in /home/xiaoke/miniconda3/envs/train_code_embedding/lib/python3.10/site-packages (from matplotlib) (3.2.3)\n",
      "Requirement already satisfied: psutil in /home/xiaoke/miniconda3/envs/train_code_embedding/lib/python3.10/site-packages (from accelerate>=0.20.1->FlagEmbedding) (7.0.0)\n",
      "Requirement already satisfied: aiohappyeyeballs>=2.5.0 in /home/xiaoke/miniconda3/envs/train_code_embedding/lib/python3.10/site-packages (from aiohttp!=4.0.0a0,!=4.0.0a1->fsspec[http]<=2025.3.0,>=2023.1.0->datasets>=2.19.0->FlagEmbedding) (2.6.1)\n",
      "Requirement already satisfied: aiosignal>=1.4.0 in /home/xiaoke/miniconda3/envs/train_code_embedding/lib/python3.10/site-packages (from aiohttp!=4.0.0a0,!=4.0.0a1->fsspec[http]<=2025.3.0,>=2023.1.0->datasets>=2.19.0->FlagEmbedding) (1.4.0)\n",
      "Requirement already satisfied: async-timeout<6.0,>=4.0 in /home/xiaoke/miniconda3/envs/train_code_embedding/lib/python3.10/site-packages (from aiohttp!=4.0.0a0,!=4.0.0a1->fsspec[http]<=2025.3.0,>=2023.1.0->datasets>=2.19.0->FlagEmbedding) (5.0.1)\n",
      "Requirement already satisfied: attrs>=17.3.0 in /home/xiaoke/miniconda3/envs/train_code_embedding/lib/python3.10/site-packages (from aiohttp!=4.0.0a0,!=4.0.0a1->fsspec[http]<=2025.3.0,>=2023.1.0->datasets>=2.19.0->FlagEmbedding) (25.3.0)\n",
      "Requirement already satisfied: frozenlist>=1.1.1 in /home/xiaoke/miniconda3/envs/train_code_embedding/lib/python3.10/site-packages (from aiohttp!=4.0.0a0,!=4.0.0a1->fsspec[http]<=2025.3.0,>=2023.1.0->datasets>=2.19.0->FlagEmbedding) (1.7.0)\n",
      "Requirement already satisfied: multidict<7.0,>=4.5 in /home/xiaoke/miniconda3/envs/train_code_embedding/lib/python3.10/site-packages (from aiohttp!=4.0.0a0,!=4.0.0a1->fsspec[http]<=2025.3.0,>=2023.1.0->datasets>=2.19.0->FlagEmbedding) (6.6.4)\n",
      "Requirement already satisfied: propcache>=0.2.0 in /home/xiaoke/miniconda3/envs/train_code_embedding/lib/python3.10/site-packages (from aiohttp!=4.0.0a0,!=4.0.0a1->fsspec[http]<=2025.3.0,>=2023.1.0->datasets>=2.19.0->FlagEmbedding) (0.3.2)\n",
      "Requirement already satisfied: yarl<2.0,>=1.17.0 in /home/xiaoke/miniconda3/envs/train_code_embedding/lib/python3.10/site-packages (from aiohttp!=4.0.0a0,!=4.0.0a1->fsspec[http]<=2025.3.0,>=2023.1.0->datasets>=2.19.0->FlagEmbedding) (1.20.1)\n",
      "Requirement already satisfied: idna>=2.0 in /home/xiaoke/miniconda3/envs/train_code_embedding/lib/python3.10/site-packages (from yarl<2.0,>=1.17.0->aiohttp!=4.0.0a0,!=4.0.0a1->fsspec[http]<=2025.3.0,>=2023.1.0->datasets>=2.19.0->FlagEmbedding) (3.10)\n",
      "Requirement already satisfied: annotated-types>=0.6.0 in /home/xiaoke/miniconda3/envs/train_code_embedding/lib/python3.10/site-packages (from pydantic>=2.0.0->mteb) (0.7.0)\n",
      "Requirement already satisfied: pydantic-core==2.33.2 in /home/xiaoke/miniconda3/envs/train_code_embedding/lib/python3.10/site-packages (from pydantic>=2.0.0->mteb) (2.33.2)\n",
      "Requirement already satisfied: typing-inspection>=0.4.0 in /home/xiaoke/miniconda3/envs/train_code_embedding/lib/python3.10/site-packages (from pydantic>=2.0.0->mteb) (0.4.1)\n",
      "Requirement already satisfied: six>=1.5 in /home/xiaoke/miniconda3/envs/train_code_embedding/lib/python3.10/site-packages (from python-dateutil>=2.8.2->pandas) (1.17.0)\n",
      "Requirement already satisfied: charset_normalizer<4,>=2 in /home/xiaoke/miniconda3/envs/train_code_embedding/lib/python3.10/site-packages (from requests>=2.26.0->mteb) (3.4.3)\n",
      "Requirement already satisfied: urllib3<3,>=1.21.1 in /home/xiaoke/miniconda3/envs/train_code_embedding/lib/python3.10/site-packages (from requests>=2.26.0->mteb) (2.5.0)\n",
      "Requirement already satisfied: certifi>=2017.4.17 in /home/xiaoke/miniconda3/envs/train_code_embedding/lib/python3.10/site-packages (from requests>=2.26.0->mteb) (2025.8.3)\n",
      "Requirement already satisfied: markdown-it-py>=2.2.0 in /home/xiaoke/miniconda3/envs/train_code_embedding/lib/python3.10/site-packages (from rich>=0.0.0->mteb) (4.0.0)\n",
      "Requirement already satisfied: pygments<3.0.0,>=2.13.0 in /home/xiaoke/miniconda3/envs/train_code_embedding/lib/python3.10/site-packages (from rich>=0.0.0->mteb) (2.19.2)\n",
      "Requirement already satisfied: mdurl~=0.1 in /home/xiaoke/miniconda3/envs/train_code_embedding/lib/python3.10/site-packages (from markdown-it-py>=2.2.0->rich>=0.0.0->mteb) (0.1.2)\n",
      "Requirement already satisfied: joblib>=1.2.0 in /home/xiaoke/miniconda3/envs/train_code_embedding/lib/python3.10/site-packages (from scikit_learn>=1.0.2->mteb) (1.5.1)\n",
      "Requirement already satisfied: threadpoolctl>=3.1.0 in /home/xiaoke/miniconda3/envs/train_code_embedding/lib/python3.10/site-packages (from scikit_learn>=1.0.2->mteb) (3.6.0)\n",
      "Requirement already satisfied: sympy>=1.13.3 in /home/xiaoke/miniconda3/envs/train_code_embedding/lib/python3.10/site-packages (from torch>=1.6.0->FlagEmbedding) (1.14.0)\n",
      "Requirement already satisfied: networkx in /home/xiaoke/miniconda3/envs/train_code_embedding/lib/python3.10/site-packages (from torch>=1.6.0->FlagEmbedding) (3.4.2)\n",
      "Requirement already satisfied: jinja2 in /home/xiaoke/miniconda3/envs/train_code_embedding/lib/python3.10/site-packages (from torch>=1.6.0->FlagEmbedding) (3.1.6)\n",
      "Requirement already satisfied: nvidia-cuda-nvrtc-cu12==12.8.93 in /home/xiaoke/miniconda3/envs/train_code_embedding/lib/python3.10/site-packages (from torch>=1.6.0->FlagEmbedding) (12.8.93)\n",
      "Requirement already satisfied: nvidia-cuda-runtime-cu12==12.8.90 in /home/xiaoke/miniconda3/envs/train_code_embedding/lib/python3.10/site-packages (from torch>=1.6.0->FlagEmbedding) (12.8.90)\n",
      "Requirement already satisfied: nvidia-cuda-cupti-cu12==12.8.90 in /home/xiaoke/miniconda3/envs/train_code_embedding/lib/python3.10/site-packages (from torch>=1.6.0->FlagEmbedding) (12.8.90)\n",
      "Requirement already satisfied: nvidia-cudnn-cu12==9.10.2.21 in /home/xiaoke/miniconda3/envs/train_code_embedding/lib/python3.10/site-packages (from torch>=1.6.0->FlagEmbedding) (9.10.2.21)\n",
      "Requirement already satisfied: nvidia-cublas-cu12==12.8.4.1 in /home/xiaoke/miniconda3/envs/train_code_embedding/lib/python3.10/site-packages (from torch>=1.6.0->FlagEmbedding) (12.8.4.1)\n",
      "Requirement already satisfied: nvidia-cufft-cu12==11.3.3.83 in /home/xiaoke/miniconda3/envs/train_code_embedding/lib/python3.10/site-packages (from torch>=1.6.0->FlagEmbedding) (11.3.3.83)\n",
      "Requirement already satisfied: nvidia-curand-cu12==10.3.9.90 in /home/xiaoke/miniconda3/envs/train_code_embedding/lib/python3.10/site-packages (from torch>=1.6.0->FlagEmbedding) (10.3.9.90)\n",
      "Requirement already satisfied: nvidia-cusolver-cu12==11.7.3.90 in /home/xiaoke/miniconda3/envs/train_code_embedding/lib/python3.10/site-packages (from torch>=1.6.0->FlagEmbedding) (11.7.3.90)\n",
      "Requirement already satisfied: nvidia-cusparse-cu12==12.5.8.93 in /home/xiaoke/miniconda3/envs/train_code_embedding/lib/python3.10/site-packages (from torch>=1.6.0->FlagEmbedding) (12.5.8.93)\n",
      "Requirement already satisfied: nvidia-cusparselt-cu12==0.7.1 in /home/xiaoke/miniconda3/envs/train_code_embedding/lib/python3.10/site-packages (from torch>=1.6.0->FlagEmbedding) (0.7.1)\n",
      "Requirement already satisfied: nvidia-nccl-cu12==2.27.3 in /home/xiaoke/miniconda3/envs/train_code_embedding/lib/python3.10/site-packages (from torch>=1.6.0->FlagEmbedding) (2.27.3)\n",
      "Requirement already satisfied: nvidia-nvtx-cu12==12.8.90 in /home/xiaoke/miniconda3/envs/train_code_embedding/lib/python3.10/site-packages (from torch>=1.6.0->FlagEmbedding) (12.8.90)\n",
      "Requirement already satisfied: nvidia-nvjitlink-cu12==12.8.93 in /home/xiaoke/miniconda3/envs/train_code_embedding/lib/python3.10/site-packages (from torch>=1.6.0->FlagEmbedding) (12.8.93)\n",
      "Requirement already satisfied: nvidia-cufile-cu12==1.13.1.3 in /home/xiaoke/miniconda3/envs/train_code_embedding/lib/python3.10/site-packages (from torch>=1.6.0->FlagEmbedding) (1.13.1.3)\n",
      "Requirement already satisfied: triton==3.4.0 in /home/xiaoke/miniconda3/envs/train_code_embedding/lib/python3.10/site-packages (from torch>=1.6.0->FlagEmbedding) (3.4.0)\n",
      "Requirement already satisfied: setuptools>=40.8.0 in /home/xiaoke/miniconda3/envs/train_code_embedding/lib/python3.10/site-packages (from triton==3.4.0->torch>=1.6.0->FlagEmbedding) (80.9.0)\n",
      "Requirement already satisfied: mpmath<1.4,>=1.1.0 in /home/xiaoke/miniconda3/envs/train_code_embedding/lib/python3.10/site-packages (from sympy>=1.13.3->torch>=1.6.0->FlagEmbedding) (1.3.0)\n",
      "Requirement already satisfied: beautifulsoup4>=4.4.1 in /home/xiaoke/miniconda3/envs/train_code_embedding/lib/python3.10/site-packages (from ir-datasets->FlagEmbedding) (4.13.5)\n",
      "Requirement already satisfied: inscriptis>=2.2.0 in /home/xiaoke/miniconda3/envs/train_code_embedding/lib/python3.10/site-packages (from ir-datasets->FlagEmbedding) (2.6.0)\n",
      "Requirement already satisfied: lxml>=4.5.2 in /home/xiaoke/miniconda3/envs/train_code_embedding/lib/python3.10/site-packages (from ir-datasets->FlagEmbedding) (6.0.1)\n",
      "Requirement already satisfied: trec-car-tools>=2.5.4 in /home/xiaoke/miniconda3/envs/train_code_embedding/lib/python3.10/site-packages (from ir-datasets->FlagEmbedding) (2.6)\n",
      "Requirement already satisfied: lz4>=3.1.10 in /home/xiaoke/miniconda3/envs/train_code_embedding/lib/python3.10/site-packages (from ir-datasets->FlagEmbedding) (4.4.4)\n",
      "Requirement already satisfied: warc3-wet>=0.2.3 in /home/xiaoke/miniconda3/envs/train_code_embedding/lib/python3.10/site-packages (from ir-datasets->FlagEmbedding) (0.2.5)\n",
      "Requirement already satisfied: warc3-wet-clueweb09>=0.2.5 in /home/xiaoke/miniconda3/envs/train_code_embedding/lib/python3.10/site-packages (from ir-datasets->FlagEmbedding) (0.2.5)\n",
      "Requirement already satisfied: zlib-state>=0.1.3 in /home/xiaoke/miniconda3/envs/train_code_embedding/lib/python3.10/site-packages (from ir-datasets->FlagEmbedding) (0.1.9)\n",
      "Requirement already satisfied: ijson>=3.1.3 in /home/xiaoke/miniconda3/envs/train_code_embedding/lib/python3.10/site-packages (from ir-datasets->FlagEmbedding) (3.4.0)\n",
      "Requirement already satisfied: unlzw3>=0.2.1 in /home/xiaoke/miniconda3/envs/train_code_embedding/lib/python3.10/site-packages (from ir-datasets->FlagEmbedding) (0.2.3)\n",
      "Requirement already satisfied: soupsieve>1.2 in /home/xiaoke/miniconda3/envs/train_code_embedding/lib/python3.10/site-packages (from beautifulsoup4>=4.4.1->ir-datasets->FlagEmbedding) (2.7)\n",
      "Requirement already satisfied: cbor>=1.0.0 in /home/xiaoke/miniconda3/envs/train_code_embedding/lib/python3.10/site-packages (from trec-car-tools>=2.5.4->ir-datasets->FlagEmbedding) (1.0.0)\n",
      "Requirement already satisfied: MarkupSafe>=2.0 in /home/xiaoke/miniconda3/envs/train_code_embedding/lib/python3.10/site-packages (from jinja2->torch>=1.6.0->FlagEmbedding) (3.0.2)\n",
      "Note: you may need to restart the kernel to use updated packages.\n"
     ]
    }
   ],
   "source": [
    "%pip install FlagEmbedding mteb sentence-transformers pandas matplotlib seaborn numpy"
   ]
  },
  {
   "cell_type": "markdown",
   "source": "### 安装必要的Python包\n\n安装评测所需的依赖包：\n- FlagEmbedding: 用于BGE模型\n- mteb: 多语言文本嵌入评测工具\n- sentence-transformers: 句子转换器库\n- pandas, matplotlib, seaborn: 数据处理和可视化",
   "metadata": {}
  },
  {
   "cell_type": "markdown",
   "metadata": {},
   "source": [
    "## 1. 导入库"
   ]
  },
  {
   "cell_type": "markdown",
   "source": "### 导入所需的Python库\n\n导入数据处理、模型加载、评测和可视化所需的库，并设置中文显示和随机种子。",
   "metadata": {}
  },
  {
   "cell_type": "code",
   "execution_count": 2,
   "metadata": {},
   "outputs": [
    {
     "name": "stderr",
     "output_type": "stream",
     "text": [
      "/home/xiaoke/miniconda3/envs/train_code_embedding/lib/python3.10/site-packages/tqdm/auto.py:21: TqdmWarning: IProgress not found. Please update jupyter and ipywidgets. See https://ipywidgets.readthedocs.io/en/stable/user_install.html\n",
      "  from .autonotebook import tqdm as notebook_tqdm\n"
     ]
    },
    {
     "data": {
      "text/plain": [
       "<torch._C.Generator at 0x7b0e92511af0>"
      ]
     },
     "execution_count": 2,
     "metadata": {},
     "output_type": "execute_result"
    }
   ],
   "source": [
    "import os\n",
    "import json\n",
    "import pandas as pd\n",
    "import numpy as np\n",
    "import matplotlib.pyplot as plt\n",
    "import seaborn as sns\n",
    "from datetime import datetime\n",
    "import mteb\n",
    "from mteb import MTEB\n",
    "from sentence_transformers import SentenceTransformer\n",
    "import torch\n",
    "import gc\n",
    "\n",
    "# 设置中文字体\n",
    "plt.rcParams['font.sans-serif'] = ['SimHei', 'DejaVu Sans']\n",
    "plt.rcParams['axes.unicode_minus'] = False\n",
    "\n",
    "# 设置随机种子\n",
    "np.random.seed(42)\n",
    "torch.manual_seed(42)"
   ]
  },
  {
   "cell_type": "markdown",
   "source": "### 定义模型路径和配置\n\n设置待评测模型的路径和配置信息，包括：\n- 原始BGE-M3模型路径\n- 微调后的BGE-M3模型路径\n- 输出结果目录",
   "metadata": {}
  },
  {
   "cell_type": "markdown",
   "metadata": {},
   "source": [
    "## 2. 定义模型路径和配置"
   ]
  },
  {
   "cell_type": "markdown",
   "source": "### 定义检索任务列表\n\n选择要进行评测的C-MTEB检索任务，目前只使用T2Retrieval任务进行评测。",
   "metadata": {}
  },
  {
   "cell_type": "code",
   "execution_count": 3,
   "metadata": {},
   "outputs": [
    {
     "name": "stdout",
     "output_type": "stream",
     "text": [
      "BGE-M3路径: ./bge-m3\n",
      "BGE_M3_FINETUNE_PATH路径: ./models/bge-m3-finetuned/final_model\n",
      "输出目录: ./c_mteb_results\n"
     ]
    }
   ],
   "source": [
    "# 定义模型路径\n",
    "BGE_M3_PATH = \"./bge-m3\"\n",
    "BGE_M3_FINETUNE_PATH = \"./models/bge-m3-finetuned/final_model\"\n",
    "\n",
    "# 定义输出目录\n",
    "OUTPUT_DIR = \"./c_mteb_results\"\n",
    "os.makedirs(OUTPUT_DIR, exist_ok=True)\n",
    "\n",
    "# 定义模型配置\n",
    "MODEL_CONFIGS = [\n",
    "    {\n",
    "        'name': 'BGE-M3',\n",
    "        'path': BGE_M3_PATH,\n",
    "        'description': '原始BGE-M3模型'\n",
    "    },\n",
    "    {\n",
    "        'name': 'BGE-M3-Finetuned',\n",
    "        'path': BGE_M3_FINETUNE_PATH,\n",
    "        'description': '微调后的BGE-M3模型'\n",
    "    }\n",
    "]\n",
    "\n",
    "print(f\"BGE-M3路径: {BGE_M3_PATH}\")\n",
    "print(f\"BGE_M3_FINETUNE_PATH路径: {BGE_M3_FINETUNE_PATH}\")\n",
    "print(f\"输出目录: {OUTPUT_DIR}\")"
   ]
  },
  {
   "cell_type": "markdown",
   "source": "### 显存管理函数\n\n定义两个关键函数：\n1. cleanup_memory(): 清理GPU显存和系统内存\n2. load_and_evaluate_model(): 加载模型并执行评测任务",
   "metadata": {}
  },
  {
   "cell_type": "markdown",
   "metadata": {},
   "source": [
    "## 3. 定义检索任务"
   ]
  },
  {
   "cell_type": "markdown",
   "source": "### 依次评测模型\n\n按顺序评测两个模型，每次评测后清理显存以避免内存溢出，最后显示评测结果摘要。",
   "metadata": {}
  },
  {
   "cell_type": "code",
   "execution_count": 4,
   "metadata": {},
   "outputs": [
    {
     "name": "stdout",
     "output_type": "stream",
     "text": [
      "将要评测的检索任务数量: 1\n",
      "任务列表:\n",
      "1. T2Retrieval\n"
     ]
    }
   ],
   "source": [
    "retrieval_tasks = [\n",
    "    # 通用短文本检索任务（T2）\n",
    "    'T2Retrieval',\n",
    "    # # MS MARCO 风格的检索任务（注意：请以本地 mteb 版本支持的名称为准）\n",
    "    # 'MMarcoRetrieval',\n",
    "    # # Du 检索任务（特定领域检索数据集）\n",
    "    # 'DuRetrieval',\n",
    "    # # 与 COVID 文献相关的医学文本检索\n",
    "    # 'CovidRetrieval',\n",
    "    # # 中文医学问答/检索（CMedQA）\n",
    "    # 'CmedqaRetrieval',\n",
    "    # # 电商领域的文本检索（商品标题/描述等）\n",
    "    # 'EcomRetrieval',\n",
    "    # # 医学领域的一般检索任务\n",
    "    # 'MedicalRetrieval'\n",
    "]\n",
    "\n",
    "# 打印将要评测的任务列表（每个字符串都是 mteb.get_tasks(...) 可识别的任务标识符）\n",
    "print(f\"将要评测的检索任务数量: {len(retrieval_tasks)}\")\n",
    "print(\"任务列表:\")\n",
    "for i, task in enumerate(retrieval_tasks, 1):\n",
    "    # 说明：如果任务名在你本地 mteb 版本中不被识别，mteb.get_tasks(...) 会报错或跳过\n",
    "    print(f\"{i}. {task}\")"
   ]
  },
  {
   "cell_type": "markdown",
   "source": "### 查看评测结果\n\n查看并分析评测结果，包括各个模型的性能指标数据。",
   "metadata": {}
  },
  {
   "cell_type": "markdown",
   "metadata": {},
   "source": [
    "## 4. 显存管理函数"
   ]
  },
  {
   "cell_type": "code",
   "execution_count": 5,
   "metadata": {},
   "outputs": [],
   "source": [
    "def cleanup_memory():\n",
    "    \"\"\"\n",
    "    清理显存和内存\n",
    "    \"\"\"\n",
    "    print(\"\\n正在清理显存和内存...\")\n",
    "    \n",
    "    # 强制垃圾回收\n",
    "    gc.collect()\n",
    "    \n",
    "    # 清理PyTorch缓存\n",
    "    if torch.cuda.is_available():\n",
    "        torch.cuda.empty_cache()\n",
    "        torch.cuda.ipc_collect()\n",
    "        \n",
    "        # 显示当前显存使用情况\n",
    "        allocated = torch.cuda.memory_allocated() / 1024**3\n",
    "        cached = torch.cuda.memory_reserved() / 1024**3\n",
    "        max_allocated = torch.cuda.max_memory_allocated() / 1024**3\n",
    "        \n",
    "        print(f\"当前显存使用情况:\")\n",
    "        print(f\"  已分配: {allocated:.2f} GB\")\n",
    "        print(f\"  已缓存: {cached:.2f} GB\")\n",
    "        print(f\"  峰值分配: {max_allocated:.2f} GB\")\n",
    "        \n",
    "        # 重置峰值内存统计\n",
    "        torch.cuda.reset_peak_memory_stats()\n",
    "    \n",
    "    print(\"显存清理完成！\")\n",
    "\n",
    "def load_and_evaluate_model(model_config, tasks, output_dir):\n",
    "    \"\"\"\n",
    "    加载模型并执行评测\n",
    "    \n",
    "    参数:\n",
    "        model_config: 模型配置字典\n",
    "        tasks: 任务列表\n",
    "        output_dir: 输出目录\n",
    "    \n",
    "    返回:\n",
    "        评测结果\n",
    "    \"\"\"\n",
    "    model_name = model_config['name']\n",
    "    model_path = model_config['path']\n",
    "    \n",
    "    print(f\"\\n{'='*60}\")\n",
    "    print(f\"开始评测模型: {model_name}\")\n",
    "    print(f\"模型路径: {model_path}\")\n",
    "    print(f\"{'='*60}\")\n",
    "    \n",
    "    # 加载模型\n",
    "    print(f\"正在加载模型 {model_name}...\")\n",
    "    model = SentenceTransformer(model_path)\n",
    "    print(f\"模型 {model_name} 加载完成，设备: {model.device}\")\n",
    "    \n",
    "    # 获取MTEB任务\n",
    "    print(f\"正在获取MTEB任务...\")\n",
    "    mteb_tasks = mteb.get_tasks(tasks=tasks)\n",
    "    \n",
    "    # 创建评测器\n",
    "    evaluation = MTEB(tasks=mteb_tasks)\n",
    "    \n",
    "    # 创建模型输出目录\n",
    "    model_output_dir = os.path.join(output_dir, model_name)\n",
    "    os.makedirs(model_output_dir, exist_ok=True)\n",
    "    \n",
    "    # 运行评测（使用新的encode_kwargs参数）\n",
    "    print(f\"开始评测 {model_name}...\")\n",
    "    results = evaluation.run(model, output_folder=model_output_dir, encode_kwargs={'batch_size': 16})\n",
    "    print(f\"模型 {model_name} 评测完成！\")\n",
    "    \n",
    "    return results"
   ]
  },
  {
   "cell_type": "markdown",
   "source": "### 结果可视化\n\n将评测结果转换为DataFrame格式，并使用条形图对比两个模型在不同指标上的性能表现。",
   "metadata": {}
  },
  {
   "cell_type": "markdown",
   "metadata": {},
   "source": [
    "## 5. 依次评测模型"
   ]
  },
  {
   "cell_type": "code",
   "execution_count": 6,
   "metadata": {},
   "outputs": [
    {
     "name": "stdout",
     "output_type": "stream",
     "text": [
      "\n",
      "================================================================================\n",
      "评测进度: 1/2 - BGE-M3\n",
      "================================================================================\n",
      "\n",
      "============================================================\n",
      "开始评测模型: BGE-M3\n",
      "模型路径: ./bge-m3\n",
      "============================================================\n",
      "正在加载模型 BGE-M3...\n",
      "模型 BGE-M3 加载完成，设备: cuda:0\n",
      "正在获取MTEB任务...\n",
      "开始评测 BGE-M3...\n"
     ]
    },
    {
     "data": {
      "text/html": [
       "<pre style=\"white-space:pre;overflow-x:auto;line-height:normal;font-family:Menlo,'DejaVu Sans Mono',consolas,'Courier New',monospace\"><span style=\"color: #262626; text-decoration-color: #262626\">───────────────────────────────────────────────── </span><span style=\"font-weight: bold\">Selected tasks </span><span style=\"color: #262626; text-decoration-color: #262626\"> ─────────────────────────────────────────────────</span>\n",
       "</pre>\n"
      ],
      "text/plain": [
       "\u001b[38;5;235m───────────────────────────────────────────────── \u001b[0m\u001b[1mSelected tasks \u001b[0m\u001b[38;5;235m ─────────────────────────────────────────────────\u001b[0m\n"
      ]
     },
     "metadata": {},
     "output_type": "display_data"
    },
    {
     "data": {
      "text/html": [
       "<pre style=\"white-space:pre;overflow-x:auto;line-height:normal;font-family:Menlo,'DejaVu Sans Mono',consolas,'Courier New',monospace\"><span style=\"font-weight: bold\">Retrieval</span>\n",
       "</pre>\n"
      ],
      "text/plain": [
       "\u001b[1mRetrieval\u001b[0m\n"
      ]
     },
     "metadata": {},
     "output_type": "display_data"
    },
    {
     "data": {
      "text/html": [
       "<pre style=\"white-space:pre;overflow-x:auto;line-height:normal;font-family:Menlo,'DejaVu Sans Mono',consolas,'Courier New',monospace\">    - T2Retrieval, <span style=\"color: #626262; text-decoration-color: #626262; font-style: italic\">s2p</span>\n",
       "</pre>\n"
      ],
      "text/plain": [
       "    - T2Retrieval, \u001b[3;38;5;241ms2p\u001b[0m\n"
      ]
     },
     "metadata": {},
     "output_type": "display_data"
    },
    {
     "data": {
      "text/html": [
       "<pre style=\"white-space:pre;overflow-x:auto;line-height:normal;font-family:Menlo,'DejaVu Sans Mono',consolas,'Courier New',monospace\">\n",
       "\n",
       "</pre>\n"
      ],
      "text/plain": [
       "\n",
       "\n"
      ]
     },
     "metadata": {},
     "output_type": "display_data"
    },
    {
     "name": "stdout",
     "output_type": "stream",
     "text": [
      "模型 BGE-M3 评测完成！\n",
      "✅ 模型 BGE-M3 评测成功完成\n",
      "\n",
      "正在清理显存和内存...\n",
      "当前显存使用情况:\n",
      "  已分配: 0.00 GB\n",
      "  已缓存: 0.00 GB\n",
      "  峰值分配: 2.12 GB\n",
      "显存清理完成！\n",
      "\n",
      "================================================================================\n",
      "评测进度: 2/2 - BGE-M3-Finetuned\n",
      "================================================================================\n",
      "\n",
      "============================================================\n",
      "开始评测模型: BGE-M3-Finetuned\n",
      "模型路径: ./models/bge-m3-finetuned/final_model\n",
      "============================================================\n",
      "正在加载模型 BGE-M3-Finetuned...\n",
      "模型 BGE-M3-Finetuned 加载完成，设备: cuda:0\n",
      "正在获取MTEB任务...\n",
      "开始评测 BGE-M3-Finetuned...\n"
     ]
    },
    {
     "data": {
      "text/html": [
       "<pre style=\"white-space:pre;overflow-x:auto;line-height:normal;font-family:Menlo,'DejaVu Sans Mono',consolas,'Courier New',monospace\"><span style=\"color: #262626; text-decoration-color: #262626\">───────────────────────────────────────────────── </span><span style=\"font-weight: bold\">Selected tasks </span><span style=\"color: #262626; text-decoration-color: #262626\"> ─────────────────────────────────────────────────</span>\n",
       "</pre>\n"
      ],
      "text/plain": [
       "\u001b[38;5;235m───────────────────────────────────────────────── \u001b[0m\u001b[1mSelected tasks \u001b[0m\u001b[38;5;235m ─────────────────────────────────────────────────\u001b[0m\n"
      ]
     },
     "metadata": {},
     "output_type": "display_data"
    },
    {
     "data": {
      "text/html": [
       "<pre style=\"white-space:pre;overflow-x:auto;line-height:normal;font-family:Menlo,'DejaVu Sans Mono',consolas,'Courier New',monospace\"><span style=\"font-weight: bold\">Retrieval</span>\n",
       "</pre>\n"
      ],
      "text/plain": [
       "\u001b[1mRetrieval\u001b[0m\n"
      ]
     },
     "metadata": {},
     "output_type": "display_data"
    },
    {
     "data": {
      "text/html": [
       "<pre style=\"white-space:pre;overflow-x:auto;line-height:normal;font-family:Menlo,'DejaVu Sans Mono',consolas,'Courier New',monospace\">    - T2Retrieval, <span style=\"color: #626262; text-decoration-color: #626262; font-style: italic\">s2p</span>\n",
       "</pre>\n"
      ],
      "text/plain": [
       "    - T2Retrieval, \u001b[3;38;5;241ms2p\u001b[0m\n"
      ]
     },
     "metadata": {},
     "output_type": "display_data"
    },
    {
     "data": {
      "text/html": [
       "<pre style=\"white-space:pre;overflow-x:auto;line-height:normal;font-family:Menlo,'DejaVu Sans Mono',consolas,'Courier New',monospace\">\n",
       "\n",
       "</pre>\n"
      ],
      "text/plain": [
       "\n",
       "\n"
      ]
     },
     "metadata": {},
     "output_type": "display_data"
    },
    {
     "name": "stderr",
     "output_type": "stream",
     "text": [
      "Batches: 100%|██████████| 1426/1426 [00:38<00:00, 36.72it/s]\n",
      "Batches: 100%|██████████| 3125/3125 [45:45<00:00,  1.14it/s] \n",
      "Batches: 100%|██████████| 3125/3125 [44:22<00:00,  1.17it/s] \n",
      "Batches: 100%|██████████| 1163/1163 [17:08<00:00,  1.13it/s]\n"
     ]
    },
    {
     "name": "stdout",
     "output_type": "stream",
     "text": [
      "模型 BGE-M3-Finetuned 评测完成！\n",
      "✅ 模型 BGE-M3-Finetuned 评测成功完成\n",
      "\n",
      "正在清理显存和内存...\n",
      "当前显存使用情况:\n",
      "  已分配: 0.01 GB\n",
      "  已缓存: 0.02 GB\n",
      "  峰值分配: 16.13 GB\n",
      "显存清理完成！\n",
      "\n",
      "================================================================================\n",
      "所有模型评测完成！\n",
      "================================================================================\n",
      "\n",
      "成功评测的模型数量: 2\n",
      "  ✅ BGE-M3\n",
      "  ✅ BGE-M3-Finetuned\n"
     ]
    }
   ],
   "source": [
    "# 创建结果存储字典\n",
    "all_results = {}\n",
    "\n",
    "# 依次评测每个模型\n",
    "for i, model_config in enumerate(MODEL_CONFIGS):\n",
    "    model_name = model_config['name']\n",
    "    \n",
    "    print(f\"\\n{'='*80}\")\n",
    "    print(f\"评测进度: {i+1}/{len(MODEL_CONFIGS)} - {model_name}\")\n",
    "    print(f\"{'='*80}\")\n",
    "    \n",
    "    try:\n",
    "        # 评测当前模型\n",
    "        results = load_and_evaluate_model(model_config, retrieval_tasks, OUTPUT_DIR)\n",
    "        all_results[model_name] = results\n",
    "        \n",
    "        print(f\"✅ 模型 {model_name} 评测成功完成\")\n",
    "        \n",
    "    except Exception as e:\n",
    "        print(f\"❌ 模型 {model_name} 评测失败: {str(e)}\")\n",
    "        # 继续评测下一个模型\n",
    "        continue\n",
    "    \n",
    "    finally:\n",
    "        # 清理显存\n",
    "        cleanup_memory()\n",
    "        \n",
    "        # 等待一段时间确保清理完成\n",
    "        import time\n",
    "        time.sleep(2)\n",
    "\n",
    "print(f\"\\n{'='*80}\")\n",
    "print(\"所有模型评测完成！\")\n",
    "print(f\"{'='*80}\")\n",
    "\n",
    "# 显示评测结果摘要\n",
    "print(f\"\\n成功评测的模型数量: {len(all_results)}\")\n",
    "for model_name in all_results.keys():\n",
    "    print(f\"  ✅ {model_name}\")"
   ]
  },
  {
   "cell_type": "markdown",
   "metadata": {},
   "source": [
    "## 6. 结果处理与分析"
   ]
  },
  {
   "cell_type": "code",
   "execution_count": 15,
   "metadata": {},
   "outputs": [
    {
     "data": {
      "text/plain": [
       "{'BGE-M3': [TaskResult(task_name=T2Retrieval, scores=...)],\n",
       " 'BGE-M3-Finetuned': [TaskResult(task_name=T2Retrieval, scores=...)]}"
      ]
     },
     "execution_count": 15,
     "metadata": {},
     "output_type": "execute_result"
    }
   ],
   "source": [
    "all_results"
   ]
  },
  {
   "cell_type": "code",
   "execution_count": 8,
   "metadata": {},
   "outputs": [
    {
     "data": {
      "text/plain": [
       "[TaskResult(task_name=T2Retrieval, scores=...)]"
      ]
     },
     "execution_count": 8,
     "metadata": {},
     "output_type": "execute_result"
    }
   ],
   "source": [
    "all_results[\"BGE-M3\"]"
   ]
  },
  {
   "cell_type": "code",
   "execution_count": 9,
   "metadata": {},
   "outputs": [
    {
     "data": {
      "text/plain": [
       "{'dev': [{'ndcg_at_1': 0.87143,\n",
       "   'ndcg_at_3': 0.8298,\n",
       "   'ndcg_at_5': 0.81435,\n",
       "   'ndcg_at_10': 0.81379,\n",
       "   'ndcg_at_20': 0.83248,\n",
       "   'ndcg_at_100': 0.85351,\n",
       "   'ndcg_at_1000': 0.86222,\n",
       "   'map_at_1': 0.25966,\n",
       "   'map_at_3': 0.51367,\n",
       "   'map_at_5': 0.63147,\n",
       "   'map_at_10': 0.73118,\n",
       "   'map_at_20': 0.75843,\n",
       "   'map_at_100': 0.7678,\n",
       "   'map_at_1000': 0.76867,\n",
       "   'recall_at_1': 0.25966,\n",
       "   'recall_at_3': 0.53387,\n",
       "   'recall_at_5': 0.67093,\n",
       "   'recall_at_10': 0.8049,\n",
       "   'recall_at_20': 0.867,\n",
       "   'recall_at_100': 0.93423,\n",
       "   'recall_at_1000': 0.97837,\n",
       "   'precision_at_1': 0.87143,\n",
       "   'precision_at_3': 0.72813,\n",
       "   'precision_at_5': 0.60948,\n",
       "   'precision_at_10': 0.40631,\n",
       "   'precision_at_20': 0.22642,\n",
       "   'precision_at_100': 0.04921,\n",
       "   'precision_at_1000': 0.00513,\n",
       "   'mrr_at_1': 0.871427,\n",
       "   'mrr_at_3': 0.897905,\n",
       "   'mrr_at_5': 0.901269,\n",
       "   'mrr_at_10': 0.903088,\n",
       "   'mrr_at_20': 0.903817,\n",
       "   'mrr_at_100': 0.904201,\n",
       "   'mrr_at_1000': 0.904246,\n",
       "   'nauc_ndcg_at_1_max': 0.707445,\n",
       "   'nauc_ndcg_at_1_std': 0.417052,\n",
       "   'nauc_ndcg_at_1_diff1': 0.441602,\n",
       "   'nauc_ndcg_at_3_max': 0.595675,\n",
       "   'nauc_ndcg_at_3_std': 0.391203,\n",
       "   'nauc_ndcg_at_3_diff1': 0.144496,\n",
       "   'nauc_ndcg_at_5_max': 0.531721,\n",
       "   'nauc_ndcg_at_5_std': 0.344106,\n",
       "   'nauc_ndcg_at_5_diff1': 0.147766,\n",
       "   'nauc_ndcg_at_10_max': 0.463258,\n",
       "   'nauc_ndcg_at_10_std': 0.277574,\n",
       "   'nauc_ndcg_at_10_diff1': 0.18077,\n",
       "   'nauc_ndcg_at_20_max': 0.498695,\n",
       "   'nauc_ndcg_at_20_std': 0.321928,\n",
       "   'nauc_ndcg_at_20_diff1': 0.180564,\n",
       "   'nauc_ndcg_at_100_max': 0.545067,\n",
       "   'nauc_ndcg_at_100_std': 0.380428,\n",
       "   'nauc_ndcg_at_100_diff1': 0.183169,\n",
       "   'nauc_ndcg_at_1000_max': 0.557334,\n",
       "   'nauc_ndcg_at_1000_std': 0.384431,\n",
       "   'nauc_ndcg_at_1000_diff1': 0.187416,\n",
       "   'nauc_map_at_1_max': -0.209214,\n",
       "   'nauc_map_at_1_std': -0.330518,\n",
       "   'nauc_map_at_1_diff1': 0.485286,\n",
       "   'nauc_map_at_3_max': -0.069292,\n",
       "   'nauc_map_at_3_std': -0.26942,\n",
       "   'nauc_map_at_3_diff1': 0.353962,\n",
       "   'nauc_map_at_5_max': 0.093771,\n",
       "   'nauc_map_at_5_std': -0.141251,\n",
       "   'nauc_map_at_5_diff1': 0.285233,\n",
       "   'nauc_map_at_10_max': 0.339533,\n",
       "   'nauc_map_at_10_std': 0.12552,\n",
       "   'nauc_map_at_10_diff1': 0.179896,\n",
       "   'nauc_map_at_20_max': 0.418707,\n",
       "   'nauc_map_at_20_std': 0.23784,\n",
       "   'nauc_map_at_20_diff1': 0.149567,\n",
       "   'nauc_map_at_100_max': 0.439864,\n",
       "   'nauc_map_at_100_std': 0.268111,\n",
       "   'nauc_map_at_100_diff1': 0.144884,\n",
       "   'nauc_map_at_1000_max': 0.441003,\n",
       "   'nauc_map_at_1000_std': 0.269025,\n",
       "   'nauc_map_at_1000_diff1': 0.144865,\n",
       "   'nauc_recall_at_1_max': -0.209214,\n",
       "   'nauc_recall_at_1_std': -0.330518,\n",
       "   'nauc_recall_at_1_diff1': 0.485286,\n",
       "   'nauc_recall_at_3_max': -0.118505,\n",
       "   'nauc_recall_at_3_std': -0.29898,\n",
       "   'nauc_recall_at_3_diff1': 0.332039,\n",
       "   'nauc_recall_at_5_max': 0.009916,\n",
       "   'nauc_recall_at_5_std': -0.20389,\n",
       "   'nauc_recall_at_5_diff1': 0.272679,\n",
       "   'nauc_recall_at_10_max': 0.249027,\n",
       "   'nauc_recall_at_10_std': 0.065521,\n",
       "   'nauc_recall_at_10_diff1': 0.161789,\n",
       "   'nauc_recall_at_20_max': 0.365044,\n",
       "   'nauc_recall_at_20_std': 0.262135,\n",
       "   'nauc_recall_at_20_diff1': 0.112929,\n",
       "   'nauc_recall_at_100_max': 0.457508,\n",
       "   'nauc_recall_at_100_std': 0.46276,\n",
       "   'nauc_recall_at_100_diff1': 0.103382,\n",
       "   'nauc_recall_at_1000_max': 0.56986,\n",
       "   'nauc_recall_at_1000_std': 0.621923,\n",
       "   'nauc_recall_at_1000_diff1': 0.11606,\n",
       "   'nauc_precision_at_1_max': 0.707445,\n",
       "   'nauc_precision_at_1_std': 0.417052,\n",
       "   'nauc_precision_at_1_diff1': 0.441602,\n",
       "   'nauc_precision_at_3_max': 0.620006,\n",
       "   'nauc_precision_at_3_std': 0.515495,\n",
       "   'nauc_precision_at_3_diff1': -0.213214,\n",
       "   'nauc_precision_at_5_max': 0.579806,\n",
       "   'nauc_precision_at_5_std': 0.54977,\n",
       "   'nauc_precision_at_5_diff1': -0.271662,\n",
       "   'nauc_precision_at_10_max': 0.530548,\n",
       "   'nauc_precision_at_10_std': 0.593002,\n",
       "   'nauc_precision_at_10_diff1': -0.293077,\n",
       "   'nauc_precision_at_20_max': 0.508725,\n",
       "   'nauc_precision_at_20_std': 0.6246,\n",
       "   'nauc_precision_at_20_diff1': -0.299266,\n",
       "   'nauc_precision_at_100_max': 0.480062,\n",
       "   'nauc_precision_at_100_std': 0.624688,\n",
       "   'nauc_precision_at_100_diff1': -0.300259,\n",
       "   'nauc_precision_at_1000_max': 0.460142,\n",
       "   'nauc_precision_at_1000_std': 0.604324,\n",
       "   'nauc_precision_at_1000_diff1': -0.301815,\n",
       "   'nauc_mrr_at_1_max': 0.707445,\n",
       "   'nauc_mrr_at_1_std': 0.417052,\n",
       "   'nauc_mrr_at_1_diff1': 0.441602,\n",
       "   'nauc_mrr_at_3_max': 0.735132,\n",
       "   'nauc_mrr_at_3_std': 0.46088,\n",
       "   'nauc_mrr_at_3_diff1': 0.431414,\n",
       "   'nauc_mrr_at_5_max': 0.737385,\n",
       "   'nauc_mrr_at_5_std': 0.462826,\n",
       "   'nauc_mrr_at_5_diff1': 0.435374,\n",
       "   'nauc_mrr_at_10_max': 0.737677,\n",
       "   'nauc_mrr_at_10_std': 0.464858,\n",
       "   'nauc_mrr_at_10_diff1': 0.435014,\n",
       "   'nauc_mrr_at_20_max': 0.737083,\n",
       "   'nauc_mrr_at_20_std': 0.464599,\n",
       "   'nauc_mrr_at_20_diff1': 0.435046,\n",
       "   'nauc_mrr_at_100_max': 0.736744,\n",
       "   'nauc_mrr_at_100_std': 0.464142,\n",
       "   'nauc_mrr_at_100_diff1': 0.435108,\n",
       "   'nauc_mrr_at_1000_max': 0.736664,\n",
       "   'nauc_mrr_at_1000_std': 0.463987,\n",
       "   'nauc_mrr_at_1000_diff1': 0.435074,\n",
       "   'main_score': 0.81379,\n",
       "   'hf_subset': 'default',\n",
       "   'languages': ['cmn-Hans']}]}"
      ]
     },
     "execution_count": 9,
     "metadata": {},
     "output_type": "execute_result"
    }
   ],
   "source": [
    "all_results[\"BGE-M3\"][0].scores"
   ]
  },
  {
   "cell_type": "code",
   "execution_count": 16,
   "metadata": {},
   "outputs": [
    {
     "data": {
      "image/png": "[encoded data removed]",
      "text/plain": [
       "<Figure size 1400x600 with 1 Axes>"
      ]
     },
     "metadata": {},
     "output_type": "display_data"
    }
   ],
   "source": [
    "# 构建DataFrame\n",
    "df = pd.DataFrame({\n",
    "    'index': metrics,\n",
    "    'BGE-M3': [scores_m3[m] for m in metrics],\n",
    "    'BGE-M3-Finetuned': [scores_reranker[m] for m in metrics]\n",
    "})\n",
    "\n",
    "# 可视化\n",
    "plt.figure(figsize=(14, 6))\n",
    "bar_width = 0.35\n",
    "x = range(len(metrics))\n",
    "\n",
    "plt.bar(x, df['BGE-M3'], width=bar_width, label='BGE-M3')\n",
    "plt.bar([i + bar_width for i in x], df['BGE-M3-Finetuned'], width=bar_width, label='BGE-M3-Finetuned')\n",
    "\n",
    "plt.xticks([i + bar_width / 2 for i in x], df['index'], rotation=45)\n",
    "plt.ylabel('score')\n",
    "plt.title('T2Retrieval')\n",
    "plt.legend()\n",
    "plt.tight_layout()\n",
    "plt.show()"
   ]
  },
  {
   "cell_type": "code",
   "execution_count": null,
   "metadata": {},
   "outputs": [],
   "source": []
  }
 ],
 "metadata": {
  "kernelspec": {
   "display_name": "train_code_embedding",
   "language": "python",
   "name": "python3"
  },
  "language_info": {
   "codemirror_mode": {
    "name": "ipython",
    "version": 3
   },
   "file_extension": ".py",
   "mimetype": "text/x-python",
   "name": "python",
   "nbconvert_exporter": "python",
   "pygments_lexer": "ipython3",
   "version": "3.10.18"
  }
 },
 "nbformat": 4,
 "nbformat_minor": 4
}